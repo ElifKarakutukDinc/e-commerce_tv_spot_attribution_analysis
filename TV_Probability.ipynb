{
 "cells": [
  {
   "cell_type": "markdown",
   "metadata": {},
   "source": [
    "## Data Cleaning and TV Probability Calculation\n",
    "\n",
    "In this notebook we want to clean the data sets, create new columns to analyse tv spot interactions and calculate TV probabilities. "
   ]
  },
  {
   "cell_type": "code",
   "execution_count": 1,
   "metadata": {},
   "outputs": [],
   "source": [
    "import pandas as pd\n",
    "import warnings\n",
    "import numpy as np\n",
    "import matplotlib.pyplot as plt\n",
    "from matplotlib import rcParams\n",
    "import seaborn as sns\n",
    "\n",
    "# calling functions from the manual created util file\n",
    "from util import (\n",
    "    df_first_look,\n",
    "    file_read,\n",
    "    sessions_final_df_cleaning,\n",
    "    tv_spot_identifier_time_series_chart,\n",
    "    two_column_distribution_chart,\n",
    ")\n",
    "from datetime import datetime\n",
    "from datetime import timedelta\n",
    "from matplotlib.pyplot import figure\n",
    "\n",
    "# adding options to visualise all rows and columns in the project\n",
    "pd.set_option(\"display.max_rows\", 500)\n",
    "pd.set_option(\"display.max_columns\", 500)\n",
    "pd.set_option(\"display.width\", 1000)\n",
    "\n",
    "# ignoring warnings\n",
    "warnings.filterwarnings(\"ignore\")\n",
    "\n",
    "# adding useful magic functions\n",
    "%load_ext lab_black\n",
    "%matplotlib inline\n",
    "%config Completer.use_jedi = False"
   ]
  },
  {
   "cell_type": "code",
   "execution_count": 2,
   "metadata": {},
   "outputs": [],
   "source": [
    "# Reading all files into the data frames\n",
    "(\n",
    "    sessions_final_df,\n",
    "    audience_df,\n",
    "    tv_planning_df,\n",
    "    tv_spots_df,\n",
    "    tv_visits_match_df,\n",
    ") = file_read()"
   ]
  },
  {
   "cell_type": "markdown",
   "metadata": {},
   "source": [
    "## Data Cleaning and Feature Creation Plan\n",
    "\n",
    "* Filter out dates are not relevant to visits from TV Planning Data Frame.\n",
    "* Merge TV Planning and TV Spot Data Frames to calculate at when our spots started and ended during the show spot block.\n",
    "* Calculating one minute duration visit aggregations at Sessions Data Frame."
   ]
  },
  {
   "cell_type": "markdown",
   "metadata": {},
   "source": [
    "### TV Planning Date Filtering\n",
    "\n",
    "In the sessions data set we only focus on 15th of May 2020. Regarding this we need to filter out other days from TV Planning data set."
   ]
  },
  {
   "cell_type": "code",
   "execution_count": 3,
   "metadata": {},
   "outputs": [],
   "source": [
    "# getting only 15th of May 2020 data\n",
    "tv_planning_df = tv_planning_df[\n",
    "    (tv_planning_df[\"block_start_time\"].dt.strftime(\"%Y-%m-%d\") == \"2020-05-15\")\n",
    "].copy()"
   ]
  },
  {
   "cell_type": "code",
   "execution_count": 4,
   "metadata": {},
   "outputs": [
    {
     "data": {
      "text/html": [
       "<div>\n",
       "<style scoped>\n",
       "    .dataframe tbody tr th:only-of-type {\n",
       "        vertical-align: middle;\n",
       "    }\n",
       "\n",
       "    .dataframe tbody tr th {\n",
       "        vertical-align: top;\n",
       "    }\n",
       "\n",
       "    .dataframe thead th {\n",
       "        text-align: right;\n",
       "    }\n",
       "</style>\n",
       "<table border=\"1\" class=\"dataframe\">\n",
       "  <thead>\n",
       "    <tr style=\"text-align: right;\">\n",
       "      <th></th>\n",
       "      <th>tvp_id</th>\n",
       "      <th>block_start_time</th>\n",
       "      <th>tv_show</th>\n",
       "      <th>block_size</th>\n",
       "      <th>block_position</th>\n",
       "      <th>spot_id</th>\n",
       "    </tr>\n",
       "  </thead>\n",
       "  <tbody>\n",
       "    <tr>\n",
       "      <th>42</th>\n",
       "      <td>10001127236681063068_1553644644</td>\n",
       "      <td>2020-05-15 18:05:00</td>\n",
       "      <td>First Dates - Ein Tisch für zwei</td>\n",
       "      <td>420.0</td>\n",
       "      <td>345.0</td>\n",
       "      <td>4234.0</td>\n",
       "    </tr>\n",
       "    <tr>\n",
       "      <th>43</th>\n",
       "      <td>10001127236681063068_1553644645</td>\n",
       "      <td>2020-05-15 18:10:00</td>\n",
       "      <td>SOKO Kitzbühel</td>\n",
       "      <td>300.0</td>\n",
       "      <td>270.0</td>\n",
       "      <td>6232.0</td>\n",
       "    </tr>\n",
       "    <tr>\n",
       "      <th>44</th>\n",
       "      <td>10001127236681063068_1553644646</td>\n",
       "      <td>2020-05-15 19:35:00</td>\n",
       "      <td>Alles was zählt</td>\n",
       "      <td>480.0</td>\n",
       "      <td>60.0</td>\n",
       "      <td>8331.0</td>\n",
       "    </tr>\n",
       "    <tr>\n",
       "      <th>45</th>\n",
       "      <td>10001127236681063068_15536446461</td>\n",
       "      <td>2020-05-15 19:40:00</td>\n",
       "      <td>Comeback oder weg?</td>\n",
       "      <td>300.0</td>\n",
       "      <td>180.0</td>\n",
       "      <td>7224.0</td>\n",
       "    </tr>\n",
       "    <tr>\n",
       "      <th>46</th>\n",
       "      <td>10001127236681063068_1553644647</td>\n",
       "      <td>2020-05-15 20:15:00</td>\n",
       "      <td>Jack Reacher</td>\n",
       "      <td>60.0</td>\n",
       "      <td>15.0</td>\n",
       "      <td>6232.0</td>\n",
       "    </tr>\n",
       "  </tbody>\n",
       "</table>\n",
       "</div>"
      ],
      "text/plain": [
       "                              tvp_id    block_start_time                           tv_show  block_size  block_position  spot_id\n",
       "42   10001127236681063068_1553644644 2020-05-15 18:05:00  First Dates - Ein Tisch für zwei       420.0           345.0   4234.0\n",
       "43   10001127236681063068_1553644645 2020-05-15 18:10:00                    SOKO Kitzbühel       300.0           270.0   6232.0\n",
       "44   10001127236681063068_1553644646 2020-05-15 19:35:00                   Alles was zählt       480.0            60.0   8331.0\n",
       "45  10001127236681063068_15536446461 2020-05-15 19:40:00                Comeback oder weg?       300.0           180.0   7224.0\n",
       "46   10001127236681063068_1553644647 2020-05-15 20:15:00                      Jack Reacher        60.0            15.0   6232.0"
      ]
     },
     "execution_count": 4,
     "metadata": {},
     "output_type": "execute_result"
    }
   ],
   "source": [
    "# we only have 15th of May spots\n",
    "tv_planning_df"
   ]
  },
  {
   "cell_type": "markdown",
   "metadata": {},
   "source": [
    "### TV Planning and TV Spots: Joining and Feature Calculations\n",
    "\n",
    "* TV Planning Data Frame is our main data set to get the advertisement block hours.\n",
    "* TV Spot Data Frame contains information about each advertisement. \n",
    "* We need to join these tables and calculate when our advertisements start and end during each show's advertisement block hours."
   ]
  },
  {
   "cell_type": "code",
   "execution_count": 5,
   "metadata": {},
   "outputs": [],
   "source": [
    "# we are joining tables on spot_id.\n",
    "tv_show_spot_df = pd.merge(tv_planning_df, tv_spots_df, how=\"left\", on=\"spot_id\")"
   ]
  },
  {
   "cell_type": "code",
   "execution_count": 6,
   "metadata": {},
   "outputs": [
    {
     "data": {
      "text/html": [
       "<div>\n",
       "<style scoped>\n",
       "    .dataframe tbody tr th:only-of-type {\n",
       "        vertical-align: middle;\n",
       "    }\n",
       "\n",
       "    .dataframe tbody tr th {\n",
       "        vertical-align: top;\n",
       "    }\n",
       "\n",
       "    .dataframe thead th {\n",
       "        text-align: right;\n",
       "    }\n",
       "</style>\n",
       "<table border=\"1\" class=\"dataframe\">\n",
       "  <thead>\n",
       "    <tr style=\"text-align: right;\">\n",
       "      <th></th>\n",
       "      <th>tvp_id</th>\n",
       "      <th>block_start_time</th>\n",
       "      <th>tv_show</th>\n",
       "      <th>block_size</th>\n",
       "      <th>block_position</th>\n",
       "      <th>spot_id</th>\n",
       "      <th>spot_name</th>\n",
       "      <th>duration</th>\n",
       "    </tr>\n",
       "  </thead>\n",
       "  <tbody>\n",
       "    <tr>\n",
       "      <th>0</th>\n",
       "      <td>10001127236681063068_1553644644</td>\n",
       "      <td>2020-05-15 18:05:00</td>\n",
       "      <td>First Dates - Ein Tisch für zwei</td>\n",
       "      <td>420.0</td>\n",
       "      <td>345.0</td>\n",
       "      <td>4234.0</td>\n",
       "      <td>springsummer_branding</td>\n",
       "      <td>30 secs</td>\n",
       "    </tr>\n",
       "    <tr>\n",
       "      <th>1</th>\n",
       "      <td>10001127236681063068_1553644645</td>\n",
       "      <td>2020-05-15 18:10:00</td>\n",
       "      <td>SOKO Kitzbühel</td>\n",
       "      <td>300.0</td>\n",
       "      <td>270.0</td>\n",
       "      <td>6232.0</td>\n",
       "      <td>springsummer_outfitfashionA</td>\n",
       "      <td>15 secs</td>\n",
       "    </tr>\n",
       "    <tr>\n",
       "      <th>2</th>\n",
       "      <td>10001127236681063068_1553644646</td>\n",
       "      <td>2020-05-15 19:35:00</td>\n",
       "      <td>Alles was zählt</td>\n",
       "      <td>480.0</td>\n",
       "      <td>60.0</td>\n",
       "      <td>8331.0</td>\n",
       "      <td>springsummer_saleB</td>\n",
       "      <td>7 secs</td>\n",
       "    </tr>\n",
       "    <tr>\n",
       "      <th>3</th>\n",
       "      <td>10001127236681063068_15536446461</td>\n",
       "      <td>2020-05-15 19:40:00</td>\n",
       "      <td>Comeback oder weg?</td>\n",
       "      <td>300.0</td>\n",
       "      <td>180.0</td>\n",
       "      <td>7224.0</td>\n",
       "      <td>springsummer_saleA</td>\n",
       "      <td>7 secs</td>\n",
       "    </tr>\n",
       "    <tr>\n",
       "      <th>4</th>\n",
       "      <td>10001127236681063068_1553644647</td>\n",
       "      <td>2020-05-15 20:15:00</td>\n",
       "      <td>Jack Reacher</td>\n",
       "      <td>60.0</td>\n",
       "      <td>15.0</td>\n",
       "      <td>6232.0</td>\n",
       "      <td>springsummer_outfitfashionA</td>\n",
       "      <td>15 secs</td>\n",
       "    </tr>\n",
       "  </tbody>\n",
       "</table>\n",
       "</div>"
      ],
      "text/plain": [
       "                             tvp_id    block_start_time                           tv_show  block_size  block_position  spot_id                    spot_name duration\n",
       "0   10001127236681063068_1553644644 2020-05-15 18:05:00  First Dates - Ein Tisch für zwei       420.0           345.0   4234.0        springsummer_branding  30 secs\n",
       "1   10001127236681063068_1553644645 2020-05-15 18:10:00                    SOKO Kitzbühel       300.0           270.0   6232.0  springsummer_outfitfashionA  15 secs\n",
       "2   10001127236681063068_1553644646 2020-05-15 19:35:00                   Alles was zählt       480.0            60.0   8331.0           springsummer_saleB   7 secs\n",
       "3  10001127236681063068_15536446461 2020-05-15 19:40:00                Comeback oder weg?       300.0           180.0   7224.0           springsummer_saleA   7 secs\n",
       "4   10001127236681063068_1553644647 2020-05-15 20:15:00                      Jack Reacher        60.0            15.0   6232.0  springsummer_outfitfashionA  15 secs"
      ]
     },
     "execution_count": 6,
     "metadata": {},
     "output_type": "execute_result"
    }
   ],
   "source": [
    "tv_show_spot_df.head()"
   ]
  },
  {
   "cell_type": "code",
   "execution_count": 7,
   "metadata": {},
   "outputs": [],
   "source": [
    "# in duration column there is a string suffix ' secs'. We need to clean this part to have numeric values.\n",
    "tv_show_spot_df[\"duration_numeric\"] = pd.to_numeric(\n",
    "    tv_show_spot_df[\"duration\"].str.split(\" \", expand=True)[0]\n",
    ")"
   ]
  },
  {
   "cell_type": "markdown",
   "metadata": {},
   "source": [
    "### Advertisement Start and End Time Calculations\n",
    "\n",
    "* `block_start_time`: Advertisement starting time during the tv show\n",
    "* `block_size`: Total advertisement time block in terms of seconds\n",
    "* `block_position`: When our advertisement starts in terms of seconds in the block_size\n",
    "* `duration`: How long our advertiesement is shown in terms of seconds\n",
    "\n",
    "Here we need to calculate when our advertisement starts and ends in terms of normal time format"
   ]
  },
  {
   "cell_type": "code",
   "execution_count": 8,
   "metadata": {},
   "outputs": [],
   "source": [
    "# calculating when our advertisement starts during the tv show advertiesement block\n",
    "tv_show_spot_df[\"block_position_second\"] = pd.to_timedelta(\n",
    "    tv_show_spot_df[\"block_position\"], unit=\"s\"\n",
    ")\n",
    "tv_show_spot_df[\"ads_start_time\"] = (\n",
    "    tv_show_spot_df[\"block_start_time\"] + tv_show_spot_df[\"block_position_second\"]\n",
    ")"
   ]
  },
  {
   "cell_type": "code",
   "execution_count": 9,
   "metadata": {},
   "outputs": [],
   "source": [
    "# calculating when our advertisement ends during the tv show advertiesement block\n",
    "tv_show_spot_df[\"duration_numeric_second\"] = pd.to_timedelta(\n",
    "    tv_show_spot_df[\"duration_numeric\"], unit=\"s\"\n",
    ")\n",
    "tv_show_spot_df[\"ads_end_time\"] = (\n",
    "    tv_show_spot_df[\"ads_start_time\"] + tv_show_spot_df[\"duration_numeric_second\"]\n",
    ")"
   ]
  },
  {
   "cell_type": "code",
   "execution_count": 10,
   "metadata": {},
   "outputs": [
    {
     "data": {
      "text/html": [
       "<div>\n",
       "<style scoped>\n",
       "    .dataframe tbody tr th:only-of-type {\n",
       "        vertical-align: middle;\n",
       "    }\n",
       "\n",
       "    .dataframe tbody tr th {\n",
       "        vertical-align: top;\n",
       "    }\n",
       "\n",
       "    .dataframe thead th {\n",
       "        text-align: right;\n",
       "    }\n",
       "</style>\n",
       "<table border=\"1\" class=\"dataframe\">\n",
       "  <thead>\n",
       "    <tr style=\"text-align: right;\">\n",
       "      <th></th>\n",
       "      <th>tvp_id</th>\n",
       "      <th>block_start_time</th>\n",
       "      <th>tv_show</th>\n",
       "      <th>block_size</th>\n",
       "      <th>block_position</th>\n",
       "      <th>spot_id</th>\n",
       "      <th>spot_name</th>\n",
       "      <th>duration</th>\n",
       "      <th>duration_numeric</th>\n",
       "      <th>block_position_second</th>\n",
       "      <th>ads_start_time</th>\n",
       "      <th>duration_numeric_second</th>\n",
       "      <th>ads_end_time</th>\n",
       "    </tr>\n",
       "  </thead>\n",
       "  <tbody>\n",
       "    <tr>\n",
       "      <th>0</th>\n",
       "      <td>10001127236681063068_1553644644</td>\n",
       "      <td>2020-05-15 18:05:00</td>\n",
       "      <td>First Dates - Ein Tisch für zwei</td>\n",
       "      <td>420.0</td>\n",
       "      <td>345.0</td>\n",
       "      <td>4234.0</td>\n",
       "      <td>springsummer_branding</td>\n",
       "      <td>30 secs</td>\n",
       "      <td>30</td>\n",
       "      <td>0 days 00:05:45</td>\n",
       "      <td>2020-05-15 18:10:45</td>\n",
       "      <td>0 days 00:00:30</td>\n",
       "      <td>2020-05-15 18:11:15</td>\n",
       "    </tr>\n",
       "    <tr>\n",
       "      <th>1</th>\n",
       "      <td>10001127236681063068_1553644645</td>\n",
       "      <td>2020-05-15 18:10:00</td>\n",
       "      <td>SOKO Kitzbühel</td>\n",
       "      <td>300.0</td>\n",
       "      <td>270.0</td>\n",
       "      <td>6232.0</td>\n",
       "      <td>springsummer_outfitfashionA</td>\n",
       "      <td>15 secs</td>\n",
       "      <td>15</td>\n",
       "      <td>0 days 00:04:30</td>\n",
       "      <td>2020-05-15 18:14:30</td>\n",
       "      <td>0 days 00:00:15</td>\n",
       "      <td>2020-05-15 18:14:45</td>\n",
       "    </tr>\n",
       "    <tr>\n",
       "      <th>2</th>\n",
       "      <td>10001127236681063068_1553644646</td>\n",
       "      <td>2020-05-15 19:35:00</td>\n",
       "      <td>Alles was zählt</td>\n",
       "      <td>480.0</td>\n",
       "      <td>60.0</td>\n",
       "      <td>8331.0</td>\n",
       "      <td>springsummer_saleB</td>\n",
       "      <td>7 secs</td>\n",
       "      <td>7</td>\n",
       "      <td>0 days 00:01:00</td>\n",
       "      <td>2020-05-15 19:36:00</td>\n",
       "      <td>0 days 00:00:07</td>\n",
       "      <td>2020-05-15 19:36:07</td>\n",
       "    </tr>\n",
       "    <tr>\n",
       "      <th>3</th>\n",
       "      <td>10001127236681063068_15536446461</td>\n",
       "      <td>2020-05-15 19:40:00</td>\n",
       "      <td>Comeback oder weg?</td>\n",
       "      <td>300.0</td>\n",
       "      <td>180.0</td>\n",
       "      <td>7224.0</td>\n",
       "      <td>springsummer_saleA</td>\n",
       "      <td>7 secs</td>\n",
       "      <td>7</td>\n",
       "      <td>0 days 00:03:00</td>\n",
       "      <td>2020-05-15 19:43:00</td>\n",
       "      <td>0 days 00:00:07</td>\n",
       "      <td>2020-05-15 19:43:07</td>\n",
       "    </tr>\n",
       "    <tr>\n",
       "      <th>4</th>\n",
       "      <td>10001127236681063068_1553644647</td>\n",
       "      <td>2020-05-15 20:15:00</td>\n",
       "      <td>Jack Reacher</td>\n",
       "      <td>60.0</td>\n",
       "      <td>15.0</td>\n",
       "      <td>6232.0</td>\n",
       "      <td>springsummer_outfitfashionA</td>\n",
       "      <td>15 secs</td>\n",
       "      <td>15</td>\n",
       "      <td>0 days 00:00:15</td>\n",
       "      <td>2020-05-15 20:15:15</td>\n",
       "      <td>0 days 00:00:15</td>\n",
       "      <td>2020-05-15 20:15:30</td>\n",
       "    </tr>\n",
       "  </tbody>\n",
       "</table>\n",
       "</div>"
      ],
      "text/plain": [
       "                             tvp_id    block_start_time                           tv_show  block_size  block_position  spot_id                    spot_name duration  duration_numeric block_position_second      ads_start_time duration_numeric_second        ads_end_time\n",
       "0   10001127236681063068_1553644644 2020-05-15 18:05:00  First Dates - Ein Tisch für zwei       420.0           345.0   4234.0        springsummer_branding  30 secs                30       0 days 00:05:45 2020-05-15 18:10:45         0 days 00:00:30 2020-05-15 18:11:15\n",
       "1   10001127236681063068_1553644645 2020-05-15 18:10:00                    SOKO Kitzbühel       300.0           270.0   6232.0  springsummer_outfitfashionA  15 secs                15       0 days 00:04:30 2020-05-15 18:14:30         0 days 00:00:15 2020-05-15 18:14:45\n",
       "2   10001127236681063068_1553644646 2020-05-15 19:35:00                   Alles was zählt       480.0            60.0   8331.0           springsummer_saleB   7 secs                 7       0 days 00:01:00 2020-05-15 19:36:00         0 days 00:00:07 2020-05-15 19:36:07\n",
       "3  10001127236681063068_15536446461 2020-05-15 19:40:00                Comeback oder weg?       300.0           180.0   7224.0           springsummer_saleA   7 secs                 7       0 days 00:03:00 2020-05-15 19:43:00         0 days 00:00:07 2020-05-15 19:43:07\n",
       "4   10001127236681063068_1553644647 2020-05-15 20:15:00                      Jack Reacher        60.0            15.0   6232.0  springsummer_outfitfashionA  15 secs                15       0 days 00:00:15 2020-05-15 20:15:15         0 days 00:00:15 2020-05-15 20:15:30"
      ]
     },
     "execution_count": 10,
     "metadata": {},
     "output_type": "execute_result"
    }
   ],
   "source": [
    "tv_show_spot_df.head()"
   ]
  },
  {
   "cell_type": "code",
   "execution_count": 11,
   "metadata": {},
   "outputs": [],
   "source": [
    "# dropping unused columns\n",
    "tv_show_spot_df.drop(\n",
    "    columns=[\"duration_numeric\", \"block_position_second\", \"duration_numeric_second\"],\n",
    "    inplace=True,\n",
    ")"
   ]
  },
  {
   "cell_type": "code",
   "execution_count": 12,
   "metadata": {},
   "outputs": [
    {
     "data": {
      "text/html": [
       "<div>\n",
       "<style scoped>\n",
       "    .dataframe tbody tr th:only-of-type {\n",
       "        vertical-align: middle;\n",
       "    }\n",
       "\n",
       "    .dataframe tbody tr th {\n",
       "        vertical-align: top;\n",
       "    }\n",
       "\n",
       "    .dataframe thead th {\n",
       "        text-align: right;\n",
       "    }\n",
       "</style>\n",
       "<table border=\"1\" class=\"dataframe\">\n",
       "  <thead>\n",
       "    <tr style=\"text-align: right;\">\n",
       "      <th></th>\n",
       "      <th>tvp_id</th>\n",
       "      <th>block_start_time</th>\n",
       "      <th>tv_show</th>\n",
       "      <th>block_size</th>\n",
       "      <th>block_position</th>\n",
       "      <th>spot_id</th>\n",
       "      <th>spot_name</th>\n",
       "      <th>duration</th>\n",
       "      <th>ads_start_time</th>\n",
       "      <th>ads_end_time</th>\n",
       "    </tr>\n",
       "  </thead>\n",
       "  <tbody>\n",
       "    <tr>\n",
       "      <th>0</th>\n",
       "      <td>10001127236681063068_1553644644</td>\n",
       "      <td>2020-05-15 18:05:00</td>\n",
       "      <td>First Dates - Ein Tisch für zwei</td>\n",
       "      <td>420.0</td>\n",
       "      <td>345.0</td>\n",
       "      <td>4234.0</td>\n",
       "      <td>springsummer_branding</td>\n",
       "      <td>30 secs</td>\n",
       "      <td>2020-05-15 18:10:45</td>\n",
       "      <td>2020-05-15 18:11:15</td>\n",
       "    </tr>\n",
       "    <tr>\n",
       "      <th>1</th>\n",
       "      <td>10001127236681063068_1553644645</td>\n",
       "      <td>2020-05-15 18:10:00</td>\n",
       "      <td>SOKO Kitzbühel</td>\n",
       "      <td>300.0</td>\n",
       "      <td>270.0</td>\n",
       "      <td>6232.0</td>\n",
       "      <td>springsummer_outfitfashionA</td>\n",
       "      <td>15 secs</td>\n",
       "      <td>2020-05-15 18:14:30</td>\n",
       "      <td>2020-05-15 18:14:45</td>\n",
       "    </tr>\n",
       "    <tr>\n",
       "      <th>2</th>\n",
       "      <td>10001127236681063068_1553644646</td>\n",
       "      <td>2020-05-15 19:35:00</td>\n",
       "      <td>Alles was zählt</td>\n",
       "      <td>480.0</td>\n",
       "      <td>60.0</td>\n",
       "      <td>8331.0</td>\n",
       "      <td>springsummer_saleB</td>\n",
       "      <td>7 secs</td>\n",
       "      <td>2020-05-15 19:36:00</td>\n",
       "      <td>2020-05-15 19:36:07</td>\n",
       "    </tr>\n",
       "    <tr>\n",
       "      <th>3</th>\n",
       "      <td>10001127236681063068_15536446461</td>\n",
       "      <td>2020-05-15 19:40:00</td>\n",
       "      <td>Comeback oder weg?</td>\n",
       "      <td>300.0</td>\n",
       "      <td>180.0</td>\n",
       "      <td>7224.0</td>\n",
       "      <td>springsummer_saleA</td>\n",
       "      <td>7 secs</td>\n",
       "      <td>2020-05-15 19:43:00</td>\n",
       "      <td>2020-05-15 19:43:07</td>\n",
       "    </tr>\n",
       "    <tr>\n",
       "      <th>4</th>\n",
       "      <td>10001127236681063068_1553644647</td>\n",
       "      <td>2020-05-15 20:15:00</td>\n",
       "      <td>Jack Reacher</td>\n",
       "      <td>60.0</td>\n",
       "      <td>15.0</td>\n",
       "      <td>6232.0</td>\n",
       "      <td>springsummer_outfitfashionA</td>\n",
       "      <td>15 secs</td>\n",
       "      <td>2020-05-15 20:15:15</td>\n",
       "      <td>2020-05-15 20:15:30</td>\n",
       "    </tr>\n",
       "  </tbody>\n",
       "</table>\n",
       "</div>"
      ],
      "text/plain": [
       "                             tvp_id    block_start_time                           tv_show  block_size  block_position  spot_id                    spot_name duration      ads_start_time        ads_end_time\n",
       "0   10001127236681063068_1553644644 2020-05-15 18:05:00  First Dates - Ein Tisch für zwei       420.0           345.0   4234.0        springsummer_branding  30 secs 2020-05-15 18:10:45 2020-05-15 18:11:15\n",
       "1   10001127236681063068_1553644645 2020-05-15 18:10:00                    SOKO Kitzbühel       300.0           270.0   6232.0  springsummer_outfitfashionA  15 secs 2020-05-15 18:14:30 2020-05-15 18:14:45\n",
       "2   10001127236681063068_1553644646 2020-05-15 19:35:00                   Alles was zählt       480.0            60.0   8331.0           springsummer_saleB   7 secs 2020-05-15 19:36:00 2020-05-15 19:36:07\n",
       "3  10001127236681063068_15536446461 2020-05-15 19:40:00                Comeback oder weg?       300.0           180.0   7224.0           springsummer_saleA   7 secs 2020-05-15 19:43:00 2020-05-15 19:43:07\n",
       "4   10001127236681063068_1553644647 2020-05-15 20:15:00                      Jack Reacher        60.0            15.0   6232.0  springsummer_outfitfashionA  15 secs 2020-05-15 20:15:15 2020-05-15 20:15:30"
      ]
     },
     "execution_count": 12,
     "metadata": {},
     "output_type": "execute_result"
    }
   ],
   "source": [
    "# final form of the combined data frame\n",
    "tv_show_spot_df"
   ]
  },
  {
   "cell_type": "markdown",
   "metadata": {},
   "source": [
    "## Deep Dive Analysis On TV Advertisement Effects"
   ]
  },
  {
   "cell_type": "markdown",
   "metadata": {},
   "source": [
    "### Target Channels \n",
    "\n",
    "Regarding the assignment rules we need to include a certain list of channels.\n",
    "\n",
    "● Search engines (SEO + SEA, Brand)\n",
    "\n",
    "● Direct Type-in Traffic\n",
    "\n",
    "## !!! Assumption !!!\n",
    "\n",
    "From the unique channel lists, I have selected these ones to be included in the project."
   ]
  },
  {
   "cell_type": "code",
   "execution_count": 13,
   "metadata": {},
   "outputs": [],
   "source": [
    "channel_list = [\n",
    "    \"Direct App\",\n",
    "    \"Direct\",\n",
    "    \"Organic Search Brand\",\n",
    "    \"Bing CPC Brand\",\n",
    "    \"Google CPC Brand\",\n",
    "]"
   ]
  },
  {
   "cell_type": "markdown",
   "metadata": {},
   "source": [
    "### Filtering Out Non Related Channel Data"
   ]
  },
  {
   "cell_type": "code",
   "execution_count": 14,
   "metadata": {},
   "outputs": [
    {
     "name": "stdout",
     "output_type": "stream",
     "text": [
      "Initial sessions_final_df table count: 1058463\n",
      "\n",
      "Final sessions_final_df table count after channel filtering: 539081\n"
     ]
    }
   ],
   "source": [
    "print(\"Initial sessions_final_df table count:\", sessions_final_df.shape[0])\n",
    "print(\"\")\n",
    "sessions_final_df = sessions_final_df_cleaning(sessions_final_df, channel_list)\n",
    "print(\n",
    "    \"Final sessions_final_df table count after channel filtering:\",\n",
    "    sessions_final_df.shape[0],\n",
    ")"
   ]
  },
  {
   "cell_type": "code",
   "execution_count": 15,
   "metadata": {},
   "outputs": [],
   "source": [
    "# calculating minutely visit counts at sessions data frame\n",
    "sessions_final_df_aggregated = (\n",
    "    sessions_final_df.groupby(by=[\"date_hour_minute\"])[\"identifier\"]\n",
    "    .count()\n",
    "    .reset_index()\n",
    "    .rename(columns={\"identifier\": \"identifier_count\"})\n",
    ")\n",
    "\n",
    "# converting date_hour_minute to datetime\n",
    "sessions_final_df_aggregated[\"date_hour_minute\"] = pd.to_datetime(\n",
    "    sessions_final_df_aggregated[\"date_hour_minute\"]\n",
    ")"
   ]
  },
  {
   "cell_type": "markdown",
   "metadata": {},
   "source": [
    "### 1 Minute Duration Aggregated Visit Time Series Chart\n",
    "\n",
    "Since the spots are stored and calculated in 1 minute durations we wanted to start detailed time series chart. \n",
    "\n",
    "By looking at this chart we can easily see various number of spikes in the data set. The most importat question what are the casuality effects in these? We already have a big hint, TV Spots!"
   ]
  },
  {
   "cell_type": "code",
   "execution_count": 16,
   "metadata": {},
   "outputs": [],
   "source": [
    "# copying into a reporting df to deep dive into time series analysis\n",
    "sessions_final_df_reporting_df = sessions_final_df_aggregated.copy()"
   ]
  },
  {
   "cell_type": "code",
   "execution_count": 17,
   "metadata": {},
   "outputs": [],
   "source": [
    "# filtering data set between 17 and 22 pm to focus spot effects\n",
    "sessions_final_df_reporting_df = sessions_final_df_reporting_df[\n",
    "    (sessions_final_df_reporting_df[\"date_hour_minute\"] >= \"2020-05-15 17:00\")\n",
    "    & (sessions_final_df_reporting_df[\"date_hour_minute\"] <= \"2020-05-15 22:00\")\n",
    "].copy()"
   ]
  },
  {
   "cell_type": "code",
   "execution_count": 18,
   "metadata": {},
   "outputs": [
    {
     "data": {
      "text/plain": [
       "<AxesSubplot:xlabel='date_hour_minute'>"
      ]
     },
     "execution_count": 18,
     "metadata": {},
     "output_type": "execute_result"
    },
    {
     "data": {
      "image/png": "[encoded data removed]",
      "text/plain": [
       "<Figure size 1440x432 with 1 Axes>"
      ]
     },
     "metadata": {
      "needs_background": "light"
     },
     "output_type": "display_data"
    }
   ],
   "source": [
    "sessions_final_df_reporting_df.set_index(\"date_hour_minute\", inplace=True)\n",
    "# 1T represents 1 minute based sampling\n",
    "sessions_final_df_reporting_df.resample(\"1T\").apply(sum).plot(figsize=(20, 6))"
   ]
  },
  {
   "cell_type": "code",
   "execution_count": 19,
   "metadata": {},
   "outputs": [
    {
     "data": {
      "text/plain": [
       "['2020-05-15 18:10',\n",
       " '2020-05-15 18:14',\n",
       " '2020-05-15 19:36',\n",
       " '2020-05-15 19:43',\n",
       " '2020-05-15 20:15']"
      ]
     },
     "execution_count": 19,
     "metadata": {},
     "output_type": "execute_result"
    }
   ],
   "source": [
    "# gathering tv advertisement start times\n",
    "ads_start_list = list((tv_show_spot_df[\"ads_start_time\"].dt.strftime(\"%Y-%m-%d %H:%M\")))\n",
    "ads_start_list"
   ]
  },
  {
   "cell_type": "markdown",
   "metadata": {},
   "source": [
    "* Our TV spots start at 18:10 and end at 20:15. Since the main task of this assignment is to find the TV probabilities (the correlations between the TV spots and identifier counts) we want to filter out unrelated time frames and focus on the TV spot hours."
   ]
  },
  {
   "cell_type": "code",
   "execution_count": 20,
   "metadata": {},
   "outputs": [
    {
     "data": {
      "image/png": "[encoded data removed]",
      "text/plain": [
       "<Figure size 1440x432 with 1 Axes>"
      ]
     },
     "metadata": {
      "needs_background": "light"
     },
     "output_type": "display_data"
    }
   ],
   "source": [
    "tv_spot_identifier_time_series_chart(\n",
    "    sessions_final_df_reporting_df, \"1T\", ads_start_list\n",
    ")"
   ]
  },
  {
   "cell_type": "markdown",
   "metadata": {},
   "source": [
    "#### Findings \n",
    "\n",
    "* First Spot: \"springsummer_branding\", TV Show: \"First Dates - Ein Tisch für zwei\" and Second Spot: \"springsummer_outfitfashionA\", TV Show: \"SOKO Kitzbühel\" \n",
    "    * We see a significant but slow and small increase at visit counts after the spot aired.\n",
    "    * In order to understand the real affect of the tv spot we need to compare the same time frame with no tv spot historical data; e.g. last 4 weeks without tv spot.\n",
    "    * We didn't see any huge spike at these two spots. Maybe for this audience group & spot combination may have an affect in a larger amount of time.\n",
    "\n",
    "\n",
    "* Third Spot: \"springsummer_saleB\", TV Show: \"Alles was zählt\", Forth Spot: \"springsummer_saleA\", TV Show: \"Comeback oder weg?\" and Fifth Spot: \"springsummer_outfitfashionA\", TV Show: \"Jack Reacher\"\n",
    "    * We see huge spikes after these tv spots aired. \n",
    "    * After these spots aired and a certain period is over (couple minutes later), we detected huge drops in visits. This can also a good effect of the spot which caused high engagement."
   ]
  },
  {
   "cell_type": "markdown",
   "metadata": {},
   "source": [
    "## !!! Assumption !!!!\n",
    "\n",
    "As we can see there are no spot overlappings during the day. In this regard spot analysis will not need any weighting affect."
   ]
  },
  {
   "cell_type": "markdown",
   "metadata": {},
   "source": [
    "### Calculating Background Noise\n",
    "\n",
    "In a next step the background noise of visits from these channels is estimated:\n",
    "* The TV relevant visits are aggregated on a per-minute basis\n",
    "* Background noise value is calculated per minute:\n",
    "\n",
    "Background noise for one minute x = median(visits in minute x-20; visits in minute x+20)"
   ]
  },
  {
   "cell_type": "code",
   "execution_count": 21,
   "metadata": {},
   "outputs": [
    {
     "data": {
      "text/html": [
       "<div>\n",
       "<style scoped>\n",
       "    .dataframe tbody tr th:only-of-type {\n",
       "        vertical-align: middle;\n",
       "    }\n",
       "\n",
       "    .dataframe tbody tr th {\n",
       "        vertical-align: top;\n",
       "    }\n",
       "\n",
       "    .dataframe thead th {\n",
       "        text-align: right;\n",
       "    }\n",
       "</style>\n",
       "<table border=\"1\" class=\"dataframe\">\n",
       "  <thead>\n",
       "    <tr style=\"text-align: right;\">\n",
       "      <th></th>\n",
       "      <th>date_hour_minute</th>\n",
       "      <th>identifier_count</th>\n",
       "    </tr>\n",
       "  </thead>\n",
       "  <tbody>\n",
       "    <tr>\n",
       "      <th>0</th>\n",
       "      <td>2020-05-15 00:00:00</td>\n",
       "      <td>1249</td>\n",
       "    </tr>\n",
       "    <tr>\n",
       "      <th>1</th>\n",
       "      <td>2020-05-15 00:01:00</td>\n",
       "      <td>426</td>\n",
       "    </tr>\n",
       "    <tr>\n",
       "      <th>2</th>\n",
       "      <td>2020-05-15 00:02:00</td>\n",
       "      <td>322</td>\n",
       "    </tr>\n",
       "    <tr>\n",
       "      <th>3</th>\n",
       "      <td>2020-05-15 00:03:00</td>\n",
       "      <td>310</td>\n",
       "    </tr>\n",
       "    <tr>\n",
       "      <th>4</th>\n",
       "      <td>2020-05-15 00:04:00</td>\n",
       "      <td>278</td>\n",
       "    </tr>\n",
       "  </tbody>\n",
       "</table>\n",
       "</div>"
      ],
      "text/plain": [
       "     date_hour_minute  identifier_count\n",
       "0 2020-05-15 00:00:00              1249\n",
       "1 2020-05-15 00:01:00               426\n",
       "2 2020-05-15 00:02:00               322\n",
       "3 2020-05-15 00:03:00               310\n",
       "4 2020-05-15 00:04:00               278"
      ]
     },
     "execution_count": 21,
     "metadata": {},
     "output_type": "execute_result"
    }
   ],
   "source": [
    "sessions_final_df_aggregated.head()"
   ]
  },
  {
   "cell_type": "markdown",
   "metadata": {},
   "source": [
    "## !!! Assumption !!!\n",
    "\n",
    "\"The algorithm assigned a tv_probability to sessions that occur within 5 minutes after a TV spot was aired.\"\n",
    "\n",
    "Regarding the statement above what I understand and apply is that we are going to add 5 minutes to the spot air start time. Sample result is below;\n",
    "\n",
    "* Spot Air Start Time: '2020-05-15 18:10'\n",
    "* 5 Minute Period End Time: '2020-05-15 18:15'\n",
    "* Date List in This Spot Period: '2020-05-15 18:10', '2020-05-15 18:11', '2020-05-15 18:12', '2020-05-15 18:13', '2020-05-15 18:14' and '2020-05-15 18:15'"
   ]
  },
  {
   "cell_type": "markdown",
   "metadata": {},
   "source": [
    "## !!! Assumption !!!\n",
    "\n",
    "\"median(visits in minute x-20; visits in minute x+20)\"\n",
    "\n",
    "Regarding the statement above what I understand and apply is that we are going to add and substract 20 minutes to each 1 minute dates that has been calculated within the 5 minute duration. I don't include the upper and lower bounds during the calculations. \n",
    "Sample result is below;\n",
    "\n",
    "* First 1 Minute Time: '2020-05-15 18:10'\n",
    "* 20 Minute After the First 1 Minute Time: '2020-05-15 18:29'\n",
    "* 20 Minute Before the First 1 Minute Time: '2020-05-15 17:51'"
   ]
  },
  {
   "cell_type": "code",
   "execution_count": 22,
   "metadata": {},
   "outputs": [
    {
     "data": {
      "text/plain": [
       "['2020-05-15 18:10',\n",
       " '2020-05-15 18:14',\n",
       " '2020-05-15 19:36',\n",
       " '2020-05-15 19:43',\n",
       " '2020-05-15 20:15']"
      ]
     },
     "execution_count": 22,
     "metadata": {},
     "output_type": "execute_result"
    }
   ],
   "source": [
    "# gathering tv advertisement start times\n",
    "ads_start_list = list((tv_show_spot_df[\"ads_start_time\"].dt.strftime(\"%Y-%m-%d %H:%M\")))\n",
    "ads_start_list"
   ]
  },
  {
   "cell_type": "code",
   "execution_count": 23,
   "metadata": {},
   "outputs": [],
   "source": [
    "# creating empy Data Frame to fill with median values which are generated in the loop for each 1 minute session\n",
    "median_df = pd.DataFrame(columns=[\"time\", \"time_new\", \"time_new_median\"])\n",
    "\n",
    "# in the nested for loop we are appending our median calculations to the original data frame (median_df)\n",
    "for time in ads_start_list:  # looping through our spot list at our start list\n",
    "    for i in range(0, 6):  # creating 5 minute interval block\n",
    "        time_new = datetime.strptime(time, \"%Y-%m-%d %H:%M\") + timedelta(\n",
    "            minutes=i\n",
    "        )  # adding 1 minute at each turn\n",
    "\n",
    "        # creating -20 and +20 minute block\n",
    "        time_new_minus_20 = time_new - timedelta(\n",
    "            minutes=20\n",
    "        )  # substract 20 minute from the new date\n",
    "        time_new_plus_20 = time_new + timedelta(\n",
    "            minutes=20\n",
    "        )  # add 20 minute to the new date\n",
    "\n",
    "        # calculating median for each 1 minute within -20 and +20 minute period\n",
    "        time_new_median = sessions_final_df_aggregated[\n",
    "            (sessions_final_df_aggregated[\"date_hour_minute\"] > time_new_minus_20)\n",
    "            & (sessions_final_df_aggregated[\"date_hour_minute\"] < time_new_plus_20)\n",
    "        ][\"identifier_count\"].median()\n",
    "\n",
    "        median_calculation_list = [\n",
    "            time,\n",
    "            time_new,\n",
    "            time_new_median,\n",
    "        ]  # creating a list object to store median calculations\n",
    "        median_calculation_series = pd.Series(\n",
    "            median_calculation_list, index=median_df.columns\n",
    "        )  # converting list to a series object with original data frame column names to be appended to the original data frame\n",
    "        median_df = median_df.append(\n",
    "            median_calculation_series, ignore_index=True\n",
    "        )  # appending to the original data frame"
   ]
  },
  {
   "cell_type": "code",
   "execution_count": 24,
   "metadata": {},
   "outputs": [
    {
     "data": {
      "text/html": [
       "<div>\n",
       "<style scoped>\n",
       "    .dataframe tbody tr th:only-of-type {\n",
       "        vertical-align: middle;\n",
       "    }\n",
       "\n",
       "    .dataframe tbody tr th {\n",
       "        vertical-align: top;\n",
       "    }\n",
       "\n",
       "    .dataframe thead th {\n",
       "        text-align: right;\n",
       "    }\n",
       "</style>\n",
       "<table border=\"1\" class=\"dataframe\">\n",
       "  <thead>\n",
       "    <tr style=\"text-align: right;\">\n",
       "      <th></th>\n",
       "      <th>time</th>\n",
       "      <th>time_new</th>\n",
       "      <th>time_new_median</th>\n",
       "    </tr>\n",
       "  </thead>\n",
       "  <tbody>\n",
       "    <tr>\n",
       "      <th>0</th>\n",
       "      <td>2020-05-15 18:10</td>\n",
       "      <td>2020-05-15 18:10:00</td>\n",
       "      <td>569.0</td>\n",
       "    </tr>\n",
       "    <tr>\n",
       "      <th>1</th>\n",
       "      <td>2020-05-15 18:10</td>\n",
       "      <td>2020-05-15 18:11:00</td>\n",
       "      <td>569.0</td>\n",
       "    </tr>\n",
       "    <tr>\n",
       "      <th>2</th>\n",
       "      <td>2020-05-15 18:10</td>\n",
       "      <td>2020-05-15 18:12:00</td>\n",
       "      <td>573.0</td>\n",
       "    </tr>\n",
       "    <tr>\n",
       "      <th>3</th>\n",
       "      <td>2020-05-15 18:10</td>\n",
       "      <td>2020-05-15 18:13:00</td>\n",
       "      <td>573.0</td>\n",
       "    </tr>\n",
       "    <tr>\n",
       "      <th>4</th>\n",
       "      <td>2020-05-15 18:10</td>\n",
       "      <td>2020-05-15 18:14:00</td>\n",
       "      <td>573.0</td>\n",
       "    </tr>\n",
       "    <tr>\n",
       "      <th>5</th>\n",
       "      <td>2020-05-15 18:10</td>\n",
       "      <td>2020-05-15 18:15:00</td>\n",
       "      <td>573.0</td>\n",
       "    </tr>\n",
       "  </tbody>\n",
       "</table>\n",
       "</div>"
      ],
      "text/plain": [
       "               time            time_new  time_new_median\n",
       "0  2020-05-15 18:10 2020-05-15 18:10:00            569.0\n",
       "1  2020-05-15 18:10 2020-05-15 18:11:00            569.0\n",
       "2  2020-05-15 18:10 2020-05-15 18:12:00            573.0\n",
       "3  2020-05-15 18:10 2020-05-15 18:13:00            573.0\n",
       "4  2020-05-15 18:10 2020-05-15 18:14:00            573.0\n",
       "5  2020-05-15 18:10 2020-05-15 18:15:00            573.0"
      ]
     },
     "execution_count": 24,
     "metadata": {},
     "output_type": "execute_result"
    }
   ],
   "source": [
    "# time: spot air time\n",
    "# time_new: spot air time adding minutes till 5 minute\n",
    "# time_new_median: median calculations for each time_new\n",
    "median_df.head(6)"
   ]
  },
  {
   "cell_type": "markdown",
   "metadata": {},
   "source": [
    "### Sanity Check to Median Calculation\n",
    "\n",
    "I will manually parse the dates below from the sessions_final_df_aggregated table and manually calculate median value to compare with the for loop results.\n",
    "\n",
    "* 20 Minute After the First 1 Minute Time: '2020-05-15 18:30'\n",
    "* 20 Minute Before the First 1 Minute Time: '2020-05-15 17:50'"
   ]
  },
  {
   "cell_type": "code",
   "execution_count": 25,
   "metadata": {},
   "outputs": [
    {
     "data": {
      "text/plain": [
       "index                              1078\n",
       "date_hour_minute    2020-05-15 17:58:00\n",
       "identifier_count                    566\n",
       "Name: 20, dtype: object"
      ]
     },
     "execution_count": 25,
     "metadata": {},
     "output_type": "execute_result"
    }
   ],
   "source": [
    "# manually filtering out and visualising results. 20th row is the median value of 41 sorted results.\n",
    "sessions_final_df_aggregated[\n",
    "    (sessions_final_df_aggregated[\"date_hour_minute\"] >= \"2020-05-15 17:50\")\n",
    "    & (sessions_final_df_aggregated[\"date_hour_minute\"] <= \"2020-05-15 18:30\")\n",
    "][[\"date_hour_minute\", \"identifier_count\"]].sort_values(\n",
    "    by=[\"identifier_count\"]\n",
    ").reset_index().iloc[\n",
    "    20\n",
    "]"
   ]
  },
  {
   "cell_type": "markdown",
   "metadata": {},
   "source": [
    "### Peak Threshold Calculation\n",
    "\n",
    "We aligned on a value p = 1.15."
   ]
  },
  {
   "cell_type": "code",
   "execution_count": 26,
   "metadata": {},
   "outputs": [],
   "source": [
    "median_df[\"peak_threshold\"] = median_df[\"time_new_median\"] * 1.15"
   ]
  },
  {
   "cell_type": "code",
   "execution_count": 27,
   "metadata": {},
   "outputs": [
    {
     "data": {
      "text/html": [
       "<div>\n",
       "<style scoped>\n",
       "    .dataframe tbody tr th:only-of-type {\n",
       "        vertical-align: middle;\n",
       "    }\n",
       "\n",
       "    .dataframe tbody tr th {\n",
       "        vertical-align: top;\n",
       "    }\n",
       "\n",
       "    .dataframe thead th {\n",
       "        text-align: right;\n",
       "    }\n",
       "</style>\n",
       "<table border=\"1\" class=\"dataframe\">\n",
       "  <thead>\n",
       "    <tr style=\"text-align: right;\">\n",
       "      <th></th>\n",
       "      <th>time</th>\n",
       "      <th>time_new</th>\n",
       "      <th>time_new_median</th>\n",
       "      <th>peak_threshold</th>\n",
       "    </tr>\n",
       "  </thead>\n",
       "  <tbody>\n",
       "    <tr>\n",
       "      <th>0</th>\n",
       "      <td>2020-05-15 18:10</td>\n",
       "      <td>2020-05-15 18:10:00</td>\n",
       "      <td>569.0</td>\n",
       "      <td>654.35</td>\n",
       "    </tr>\n",
       "    <tr>\n",
       "      <th>1</th>\n",
       "      <td>2020-05-15 18:10</td>\n",
       "      <td>2020-05-15 18:11:00</td>\n",
       "      <td>569.0</td>\n",
       "      <td>654.35</td>\n",
       "    </tr>\n",
       "    <tr>\n",
       "      <th>2</th>\n",
       "      <td>2020-05-15 18:10</td>\n",
       "      <td>2020-05-15 18:12:00</td>\n",
       "      <td>573.0</td>\n",
       "      <td>658.95</td>\n",
       "    </tr>\n",
       "    <tr>\n",
       "      <th>3</th>\n",
       "      <td>2020-05-15 18:10</td>\n",
       "      <td>2020-05-15 18:13:00</td>\n",
       "      <td>573.0</td>\n",
       "      <td>658.95</td>\n",
       "    </tr>\n",
       "    <tr>\n",
       "      <th>4</th>\n",
       "      <td>2020-05-15 18:10</td>\n",
       "      <td>2020-05-15 18:14:00</td>\n",
       "      <td>573.0</td>\n",
       "      <td>658.95</td>\n",
       "    </tr>\n",
       "  </tbody>\n",
       "</table>\n",
       "</div>"
      ],
      "text/plain": [
       "               time            time_new  time_new_median  peak_threshold\n",
       "0  2020-05-15 18:10 2020-05-15 18:10:00            569.0          654.35\n",
       "1  2020-05-15 18:10 2020-05-15 18:11:00            569.0          654.35\n",
       "2  2020-05-15 18:10 2020-05-15 18:12:00            573.0          658.95\n",
       "3  2020-05-15 18:10 2020-05-15 18:13:00            573.0          658.95\n",
       "4  2020-05-15 18:10 2020-05-15 18:14:00            573.0          658.95"
      ]
     },
     "execution_count": 27,
     "metadata": {},
     "output_type": "execute_result"
    }
   ],
   "source": [
    "median_df.head()"
   ]
  },
  {
   "cell_type": "markdown",
   "metadata": {},
   "source": [
    "### TV probability calculation\n",
    "\n",
    "For each minute during and up to 5 minutes after a TV spot is aired, it is checked if the TV relevant visits exceed the peak threshold:\n",
    "\n",
    "* If the peak threshold is exceeded: each TV relevant session receives the TV probability (visits - background noise) / visits\n",
    "* If the peak threshold is not exceeded: no TV probability is assigned"
   ]
  },
  {
   "cell_type": "code",
   "execution_count": 28,
   "metadata": {},
   "outputs": [],
   "source": [
    "# merging median_df with sessions_final_df_aggregated data frame to compare thresholds with identifier counts\n",
    "threshold_control = pd.merge(\n",
    "    median_df,\n",
    "    sessions_final_df_aggregated,\n",
    "    how=\"inner\",\n",
    "    left_on=\"time_new\",\n",
    "    right_on=\"date_hour_minute\",\n",
    ")"
   ]
  },
  {
   "cell_type": "code",
   "execution_count": 29,
   "metadata": {},
   "outputs": [
    {
     "data": {
      "text/html": [
       "<div>\n",
       "<style scoped>\n",
       "    .dataframe tbody tr th:only-of-type {\n",
       "        vertical-align: middle;\n",
       "    }\n",
       "\n",
       "    .dataframe tbody tr th {\n",
       "        vertical-align: top;\n",
       "    }\n",
       "\n",
       "    .dataframe thead th {\n",
       "        text-align: right;\n",
       "    }\n",
       "</style>\n",
       "<table border=\"1\" class=\"dataframe\">\n",
       "  <thead>\n",
       "    <tr style=\"text-align: right;\">\n",
       "      <th></th>\n",
       "      <th>time</th>\n",
       "      <th>time_new</th>\n",
       "      <th>time_new_median</th>\n",
       "      <th>peak_threshold</th>\n",
       "      <th>date_hour_minute</th>\n",
       "      <th>identifier_count</th>\n",
       "    </tr>\n",
       "  </thead>\n",
       "  <tbody>\n",
       "    <tr>\n",
       "      <th>0</th>\n",
       "      <td>2020-05-15 18:10</td>\n",
       "      <td>2020-05-15 18:10:00</td>\n",
       "      <td>569.0</td>\n",
       "      <td>654.35</td>\n",
       "      <td>2020-05-15 18:10:00</td>\n",
       "      <td>798</td>\n",
       "    </tr>\n",
       "    <tr>\n",
       "      <th>1</th>\n",
       "      <td>2020-05-15 18:10</td>\n",
       "      <td>2020-05-15 18:11:00</td>\n",
       "      <td>569.0</td>\n",
       "      <td>654.35</td>\n",
       "      <td>2020-05-15 18:11:00</td>\n",
       "      <td>800</td>\n",
       "    </tr>\n",
       "    <tr>\n",
       "      <th>2</th>\n",
       "      <td>2020-05-15 18:10</td>\n",
       "      <td>2020-05-15 18:12:00</td>\n",
       "      <td>573.0</td>\n",
       "      <td>658.95</td>\n",
       "      <td>2020-05-15 18:12:00</td>\n",
       "      <td>901</td>\n",
       "    </tr>\n",
       "    <tr>\n",
       "      <th>3</th>\n",
       "      <td>2020-05-15 18:10</td>\n",
       "      <td>2020-05-15 18:13:00</td>\n",
       "      <td>573.0</td>\n",
       "      <td>658.95</td>\n",
       "      <td>2020-05-15 18:13:00</td>\n",
       "      <td>908</td>\n",
       "    </tr>\n",
       "    <tr>\n",
       "      <th>4</th>\n",
       "      <td>2020-05-15 18:10</td>\n",
       "      <td>2020-05-15 18:14:00</td>\n",
       "      <td>573.0</td>\n",
       "      <td>658.95</td>\n",
       "      <td>2020-05-15 18:14:00</td>\n",
       "      <td>961</td>\n",
       "    </tr>\n",
       "  </tbody>\n",
       "</table>\n",
       "</div>"
      ],
      "text/plain": [
       "               time            time_new  time_new_median  peak_threshold    date_hour_minute  identifier_count\n",
       "0  2020-05-15 18:10 2020-05-15 18:10:00            569.0          654.35 2020-05-15 18:10:00               798\n",
       "1  2020-05-15 18:10 2020-05-15 18:11:00            569.0          654.35 2020-05-15 18:11:00               800\n",
       "2  2020-05-15 18:10 2020-05-15 18:12:00            573.0          658.95 2020-05-15 18:12:00               901\n",
       "3  2020-05-15 18:10 2020-05-15 18:13:00            573.0          658.95 2020-05-15 18:13:00               908\n",
       "4  2020-05-15 18:10 2020-05-15 18:14:00            573.0          658.95 2020-05-15 18:14:00               961"
      ]
     },
     "execution_count": 29,
     "metadata": {},
     "output_type": "execute_result"
    }
   ],
   "source": [
    "threshold_control.head()"
   ]
  },
  {
   "cell_type": "code",
   "execution_count": 30,
   "metadata": {},
   "outputs": [],
   "source": [
    "# calculating tv_probability based on visits and background noise. I am assigning 0 to the probabilities if they can't exceed the thresholds for further analysis.\n",
    "threshold_control[\"tv_prob\"] = np.where(\n",
    "    threshold_control[\"identifier_count\"] > threshold_control[\"peak_threshold\"],\n",
    "    (threshold_control[\"identifier_count\"] - threshold_control[\"time_new_median\"])\n",
    "    / threshold_control[\"identifier_count\"],\n",
    "    0,\n",
    ")"
   ]
  },
  {
   "cell_type": "markdown",
   "metadata": {},
   "source": [
    "### Findings\n",
    "\n",
    "* By analysing the table above we can easily detect a pattern. At some spots the thresholds were only exceeded in the first two minutes. In this regard 3 to 5 minute affects couldn't exceed thresholds table above."
   ]
  },
  {
   "cell_type": "code",
   "execution_count": 31,
   "metadata": {},
   "outputs": [
    {
     "data": {
      "text/html": [
       "<div>\n",
       "<style scoped>\n",
       "    .dataframe tbody tr th:only-of-type {\n",
       "        vertical-align: middle;\n",
       "    }\n",
       "\n",
       "    .dataframe tbody tr th {\n",
       "        vertical-align: top;\n",
       "    }\n",
       "\n",
       "    .dataframe thead th {\n",
       "        text-align: right;\n",
       "    }\n",
       "</style>\n",
       "<table border=\"1\" class=\"dataframe\">\n",
       "  <thead>\n",
       "    <tr style=\"text-align: right;\">\n",
       "      <th></th>\n",
       "      <th>time</th>\n",
       "      <th>time_new</th>\n",
       "      <th>time_new_median</th>\n",
       "      <th>peak_threshold</th>\n",
       "      <th>date_hour_minute</th>\n",
       "      <th>identifier_count</th>\n",
       "      <th>tv_prob</th>\n",
       "    </tr>\n",
       "  </thead>\n",
       "  <tbody>\n",
       "    <tr>\n",
       "      <th>9</th>\n",
       "      <td>2020-05-15 18:14</td>\n",
       "      <td>2020-05-15 18:17:00</td>\n",
       "      <td>573.0</td>\n",
       "      <td>658.95</td>\n",
       "      <td>2020-05-15 18:17:00</td>\n",
       "      <td>558</td>\n",
       "      <td>0.0</td>\n",
       "    </tr>\n",
       "    <tr>\n",
       "      <th>10</th>\n",
       "      <td>2020-05-15 18:14</td>\n",
       "      <td>2020-05-15 18:18:00</td>\n",
       "      <td>573.0</td>\n",
       "      <td>658.95</td>\n",
       "      <td>2020-05-15 18:18:00</td>\n",
       "      <td>522</td>\n",
       "      <td>0.0</td>\n",
       "    </tr>\n",
       "    <tr>\n",
       "      <th>11</th>\n",
       "      <td>2020-05-15 18:14</td>\n",
       "      <td>2020-05-15 18:19:00</td>\n",
       "      <td>569.0</td>\n",
       "      <td>654.35</td>\n",
       "      <td>2020-05-15 18:19:00</td>\n",
       "      <td>503</td>\n",
       "      <td>0.0</td>\n",
       "    </tr>\n",
       "    <tr>\n",
       "      <th>14</th>\n",
       "      <td>2020-05-15 19:36</td>\n",
       "      <td>2020-05-15 19:38:00</td>\n",
       "      <td>603.0</td>\n",
       "      <td>693.45</td>\n",
       "      <td>2020-05-15 19:38:00</td>\n",
       "      <td>596</td>\n",
       "      <td>0.0</td>\n",
       "    </tr>\n",
       "    <tr>\n",
       "      <th>15</th>\n",
       "      <td>2020-05-15 19:36</td>\n",
       "      <td>2020-05-15 19:39:00</td>\n",
       "      <td>603.0</td>\n",
       "      <td>693.45</td>\n",
       "      <td>2020-05-15 19:39:00</td>\n",
       "      <td>587</td>\n",
       "      <td>0.0</td>\n",
       "    </tr>\n",
       "    <tr>\n",
       "      <th>21</th>\n",
       "      <td>2020-05-15 19:43</td>\n",
       "      <td>2020-05-15 19:46:00</td>\n",
       "      <td>607.0</td>\n",
       "      <td>698.05</td>\n",
       "      <td>2020-05-15 19:46:00</td>\n",
       "      <td>607</td>\n",
       "      <td>0.0</td>\n",
       "    </tr>\n",
       "    <tr>\n",
       "      <th>22</th>\n",
       "      <td>2020-05-15 19:43</td>\n",
       "      <td>2020-05-15 19:47:00</td>\n",
       "      <td>607.0</td>\n",
       "      <td>698.05</td>\n",
       "      <td>2020-05-15 19:47:00</td>\n",
       "      <td>603</td>\n",
       "      <td>0.0</td>\n",
       "    </tr>\n",
       "    <tr>\n",
       "      <th>23</th>\n",
       "      <td>2020-05-15 19:43</td>\n",
       "      <td>2020-05-15 19:48:00</td>\n",
       "      <td>607.0</td>\n",
       "      <td>698.05</td>\n",
       "      <td>2020-05-15 19:48:00</td>\n",
       "      <td>591</td>\n",
       "      <td>0.0</td>\n",
       "    </tr>\n",
       "    <tr>\n",
       "      <th>26</th>\n",
       "      <td>2020-05-15 20:15</td>\n",
       "      <td>2020-05-15 20:17:00</td>\n",
       "      <td>683.0</td>\n",
       "      <td>785.45</td>\n",
       "      <td>2020-05-15 20:17:00</td>\n",
       "      <td>621</td>\n",
       "      <td>0.0</td>\n",
       "    </tr>\n",
       "    <tr>\n",
       "      <th>27</th>\n",
       "      <td>2020-05-15 20:15</td>\n",
       "      <td>2020-05-15 20:18:00</td>\n",
       "      <td>694.0</td>\n",
       "      <td>798.10</td>\n",
       "      <td>2020-05-15 20:18:00</td>\n",
       "      <td>712</td>\n",
       "      <td>0.0</td>\n",
       "    </tr>\n",
       "    <tr>\n",
       "      <th>28</th>\n",
       "      <td>2020-05-15 20:15</td>\n",
       "      <td>2020-05-15 20:19:00</td>\n",
       "      <td>712.0</td>\n",
       "      <td>818.80</td>\n",
       "      <td>2020-05-15 20:19:00</td>\n",
       "      <td>651</td>\n",
       "      <td>0.0</td>\n",
       "    </tr>\n",
       "    <tr>\n",
       "      <th>29</th>\n",
       "      <td>2020-05-15 20:15</td>\n",
       "      <td>2020-05-15 20:20:00</td>\n",
       "      <td>712.0</td>\n",
       "      <td>818.80</td>\n",
       "      <td>2020-05-15 20:20:00</td>\n",
       "      <td>716</td>\n",
       "      <td>0.0</td>\n",
       "    </tr>\n",
       "  </tbody>\n",
       "</table>\n",
       "</div>"
      ],
      "text/plain": [
       "                time            time_new  time_new_median  peak_threshold    date_hour_minute  identifier_count  tv_prob\n",
       "9   2020-05-15 18:14 2020-05-15 18:17:00            573.0          658.95 2020-05-15 18:17:00               558      0.0\n",
       "10  2020-05-15 18:14 2020-05-15 18:18:00            573.0          658.95 2020-05-15 18:18:00               522      0.0\n",
       "11  2020-05-15 18:14 2020-05-15 18:19:00            569.0          654.35 2020-05-15 18:19:00               503      0.0\n",
       "14  2020-05-15 19:36 2020-05-15 19:38:00            603.0          693.45 2020-05-15 19:38:00               596      0.0\n",
       "15  2020-05-15 19:36 2020-05-15 19:39:00            603.0          693.45 2020-05-15 19:39:00               587      0.0\n",
       "21  2020-05-15 19:43 2020-05-15 19:46:00            607.0          698.05 2020-05-15 19:46:00               607      0.0\n",
       "22  2020-05-15 19:43 2020-05-15 19:47:00            607.0          698.05 2020-05-15 19:47:00               603      0.0\n",
       "23  2020-05-15 19:43 2020-05-15 19:48:00            607.0          698.05 2020-05-15 19:48:00               591      0.0\n",
       "26  2020-05-15 20:15 2020-05-15 20:17:00            683.0          785.45 2020-05-15 20:17:00               621      0.0\n",
       "27  2020-05-15 20:15 2020-05-15 20:18:00            694.0          798.10 2020-05-15 20:18:00               712      0.0\n",
       "28  2020-05-15 20:15 2020-05-15 20:19:00            712.0          818.80 2020-05-15 20:19:00               651      0.0\n",
       "29  2020-05-15 20:15 2020-05-15 20:20:00            712.0          818.80 2020-05-15 20:20:00               716      0.0"
      ]
     },
     "execution_count": 31,
     "metadata": {},
     "output_type": "execute_result"
    }
   ],
   "source": [
    "# events below couldn't pass the thresholds\n",
    "threshold_control[threshold_control[\"tv_prob\"] == 0]"
   ]
  },
  {
   "cell_type": "code",
   "execution_count": 32,
   "metadata": {},
   "outputs": [],
   "source": [
    "# filtering out 0 tv probabilities\n",
    "threshold_control = threshold_control[threshold_control[\"tv_prob\"] > 0]"
   ]
  },
  {
   "cell_type": "code",
   "execution_count": 33,
   "metadata": {},
   "outputs": [],
   "source": [
    "# adding a new column without second to join with threshold_control table\n",
    "tv_show_spot_df[\"ads_start_time_date\"] = tv_show_spot_df[\"ads_start_time\"].dt.strftime(\n",
    "    \"%Y-%m-%d %H:%M\"\n",
    ")"
   ]
  },
  {
   "cell_type": "code",
   "execution_count": 34,
   "metadata": {},
   "outputs": [
    {
     "data": {
      "text/html": [
       "<div>\n",
       "<style scoped>\n",
       "    .dataframe tbody tr th:only-of-type {\n",
       "        vertical-align: middle;\n",
       "    }\n",
       "\n",
       "    .dataframe tbody tr th {\n",
       "        vertical-align: top;\n",
       "    }\n",
       "\n",
       "    .dataframe thead th {\n",
       "        text-align: right;\n",
       "    }\n",
       "</style>\n",
       "<table border=\"1\" class=\"dataframe\">\n",
       "  <thead>\n",
       "    <tr style=\"text-align: right;\">\n",
       "      <th></th>\n",
       "      <th>tvp_id</th>\n",
       "      <th>block_start_time</th>\n",
       "      <th>tv_show</th>\n",
       "      <th>block_size</th>\n",
       "      <th>block_position</th>\n",
       "      <th>spot_id</th>\n",
       "      <th>spot_name</th>\n",
       "      <th>duration</th>\n",
       "      <th>ads_start_time</th>\n",
       "      <th>ads_end_time</th>\n",
       "      <th>ads_start_time_date</th>\n",
       "    </tr>\n",
       "  </thead>\n",
       "  <tbody>\n",
       "    <tr>\n",
       "      <th>0</th>\n",
       "      <td>10001127236681063068_1553644644</td>\n",
       "      <td>2020-05-15 18:05:00</td>\n",
       "      <td>First Dates - Ein Tisch für zwei</td>\n",
       "      <td>420.0</td>\n",
       "      <td>345.0</td>\n",
       "      <td>4234.0</td>\n",
       "      <td>springsummer_branding</td>\n",
       "      <td>30 secs</td>\n",
       "      <td>2020-05-15 18:10:45</td>\n",
       "      <td>2020-05-15 18:11:15</td>\n",
       "      <td>2020-05-15 18:10</td>\n",
       "    </tr>\n",
       "    <tr>\n",
       "      <th>1</th>\n",
       "      <td>10001127236681063068_1553644645</td>\n",
       "      <td>2020-05-15 18:10:00</td>\n",
       "      <td>SOKO Kitzbühel</td>\n",
       "      <td>300.0</td>\n",
       "      <td>270.0</td>\n",
       "      <td>6232.0</td>\n",
       "      <td>springsummer_outfitfashionA</td>\n",
       "      <td>15 secs</td>\n",
       "      <td>2020-05-15 18:14:30</td>\n",
       "      <td>2020-05-15 18:14:45</td>\n",
       "      <td>2020-05-15 18:14</td>\n",
       "    </tr>\n",
       "    <tr>\n",
       "      <th>2</th>\n",
       "      <td>10001127236681063068_1553644646</td>\n",
       "      <td>2020-05-15 19:35:00</td>\n",
       "      <td>Alles was zählt</td>\n",
       "      <td>480.0</td>\n",
       "      <td>60.0</td>\n",
       "      <td>8331.0</td>\n",
       "      <td>springsummer_saleB</td>\n",
       "      <td>7 secs</td>\n",
       "      <td>2020-05-15 19:36:00</td>\n",
       "      <td>2020-05-15 19:36:07</td>\n",
       "      <td>2020-05-15 19:36</td>\n",
       "    </tr>\n",
       "    <tr>\n",
       "      <th>3</th>\n",
       "      <td>10001127236681063068_15536446461</td>\n",
       "      <td>2020-05-15 19:40:00</td>\n",
       "      <td>Comeback oder weg?</td>\n",
       "      <td>300.0</td>\n",
       "      <td>180.0</td>\n",
       "      <td>7224.0</td>\n",
       "      <td>springsummer_saleA</td>\n",
       "      <td>7 secs</td>\n",
       "      <td>2020-05-15 19:43:00</td>\n",
       "      <td>2020-05-15 19:43:07</td>\n",
       "      <td>2020-05-15 19:43</td>\n",
       "    </tr>\n",
       "    <tr>\n",
       "      <th>4</th>\n",
       "      <td>10001127236681063068_1553644647</td>\n",
       "      <td>2020-05-15 20:15:00</td>\n",
       "      <td>Jack Reacher</td>\n",
       "      <td>60.0</td>\n",
       "      <td>15.0</td>\n",
       "      <td>6232.0</td>\n",
       "      <td>springsummer_outfitfashionA</td>\n",
       "      <td>15 secs</td>\n",
       "      <td>2020-05-15 20:15:15</td>\n",
       "      <td>2020-05-15 20:15:30</td>\n",
       "      <td>2020-05-15 20:15</td>\n",
       "    </tr>\n",
       "  </tbody>\n",
       "</table>\n",
       "</div>"
      ],
      "text/plain": [
       "                             tvp_id    block_start_time                           tv_show  block_size  block_position  spot_id                    spot_name duration      ads_start_time        ads_end_time ads_start_time_date\n",
       "0   10001127236681063068_1553644644 2020-05-15 18:05:00  First Dates - Ein Tisch für zwei       420.0           345.0   4234.0        springsummer_branding  30 secs 2020-05-15 18:10:45 2020-05-15 18:11:15    2020-05-15 18:10\n",
       "1   10001127236681063068_1553644645 2020-05-15 18:10:00                    SOKO Kitzbühel       300.0           270.0   6232.0  springsummer_outfitfashionA  15 secs 2020-05-15 18:14:30 2020-05-15 18:14:45    2020-05-15 18:14\n",
       "2   10001127236681063068_1553644646 2020-05-15 19:35:00                   Alles was zählt       480.0            60.0   8331.0           springsummer_saleB   7 secs 2020-05-15 19:36:00 2020-05-15 19:36:07    2020-05-15 19:36\n",
       "3  10001127236681063068_15536446461 2020-05-15 19:40:00                Comeback oder weg?       300.0           180.0   7224.0           springsummer_saleA   7 secs 2020-05-15 19:43:00 2020-05-15 19:43:07    2020-05-15 19:43\n",
       "4   10001127236681063068_1553644647 2020-05-15 20:15:00                      Jack Reacher        60.0            15.0   6232.0  springsummer_outfitfashionA  15 secs 2020-05-15 20:15:15 2020-05-15 20:15:30    2020-05-15 20:15"
      ]
     },
     "execution_count": 34,
     "metadata": {},
     "output_type": "execute_result"
    }
   ],
   "source": [
    "tv_show_spot_df.head()"
   ]
  },
  {
   "cell_type": "code",
   "execution_count": 35,
   "metadata": {},
   "outputs": [],
   "source": [
    "# joining all tables\n",
    "final_calculation_df = pd.merge(\n",
    "    threshold_control,\n",
    "    tv_show_spot_df,\n",
    "    how=\"left\",\n",
    "    left_on=\"time\",\n",
    "    right_on=\"ads_start_time_date\",\n",
    ")[\n",
    "    [\n",
    "        \"tvp_id\",\n",
    "        \"tv_show\",\n",
    "        \"spot_id\",\n",
    "        \"spot_name\",\n",
    "        \"ads_start_time\",\n",
    "        \"time_new\",\n",
    "        \"time_new_median\",\n",
    "        \"peak_threshold\",\n",
    "        \"identifier_count\",\n",
    "        \"tv_prob\",\n",
    "    ]\n",
    "].rename(\n",
    "    columns={\n",
    "        \"identifier_count\": \"visit_count\",\n",
    "        \"time_new\": \"ads_start_time_5_min_duration\",\n",
    "        \"time_new_median\": \"visit_median\",\n",
    "    }\n",
    ")"
   ]
  },
  {
   "cell_type": "code",
   "execution_count": 36,
   "metadata": {},
   "outputs": [],
   "source": [
    "# removing seconds from the duration column to be merged with the sessions table\n",
    "final_calculation_df[\"ads_start_time_5_min_duration\"] = final_calculation_df[\n",
    "    \"ads_start_time_5_min_duration\"\n",
    "].dt.strftime(\"%d.%m.%y %H:%M\")"
   ]
  },
  {
   "cell_type": "code",
   "execution_count": 37,
   "metadata": {},
   "outputs": [
    {
     "data": {
      "text/html": [
       "<div>\n",
       "<style scoped>\n",
       "    .dataframe tbody tr th:only-of-type {\n",
       "        vertical-align: middle;\n",
       "    }\n",
       "\n",
       "    .dataframe tbody tr th {\n",
       "        vertical-align: top;\n",
       "    }\n",
       "\n",
       "    .dataframe thead th {\n",
       "        text-align: right;\n",
       "    }\n",
       "</style>\n",
       "<table border=\"1\" class=\"dataframe\">\n",
       "  <thead>\n",
       "    <tr style=\"text-align: right;\">\n",
       "      <th></th>\n",
       "      <th>tvp_id</th>\n",
       "      <th>tv_show</th>\n",
       "      <th>spot_id</th>\n",
       "      <th>spot_name</th>\n",
       "      <th>ads_start_time</th>\n",
       "      <th>ads_start_time_5_min_duration</th>\n",
       "      <th>visit_median</th>\n",
       "      <th>peak_threshold</th>\n",
       "      <th>visit_count</th>\n",
       "      <th>tv_prob</th>\n",
       "    </tr>\n",
       "  </thead>\n",
       "  <tbody>\n",
       "    <tr>\n",
       "      <th>0</th>\n",
       "      <td>10001127236681063068_1553644644</td>\n",
       "      <td>First Dates - Ein Tisch für zwei</td>\n",
       "      <td>4234.0</td>\n",
       "      <td>springsummer_branding</td>\n",
       "      <td>2020-05-15 18:10:45</td>\n",
       "      <td>15.05.20 18:10</td>\n",
       "      <td>569.0</td>\n",
       "      <td>654.35</td>\n",
       "      <td>798</td>\n",
       "      <td>0.286967</td>\n",
       "    </tr>\n",
       "    <tr>\n",
       "      <th>1</th>\n",
       "      <td>10001127236681063068_1553644644</td>\n",
       "      <td>First Dates - Ein Tisch für zwei</td>\n",
       "      <td>4234.0</td>\n",
       "      <td>springsummer_branding</td>\n",
       "      <td>2020-05-15 18:10:45</td>\n",
       "      <td>15.05.20 18:11</td>\n",
       "      <td>569.0</td>\n",
       "      <td>654.35</td>\n",
       "      <td>800</td>\n",
       "      <td>0.288750</td>\n",
       "    </tr>\n",
       "    <tr>\n",
       "      <th>2</th>\n",
       "      <td>10001127236681063068_1553644644</td>\n",
       "      <td>First Dates - Ein Tisch für zwei</td>\n",
       "      <td>4234.0</td>\n",
       "      <td>springsummer_branding</td>\n",
       "      <td>2020-05-15 18:10:45</td>\n",
       "      <td>15.05.20 18:12</td>\n",
       "      <td>573.0</td>\n",
       "      <td>658.95</td>\n",
       "      <td>901</td>\n",
       "      <td>0.364040</td>\n",
       "    </tr>\n",
       "    <tr>\n",
       "      <th>3</th>\n",
       "      <td>10001127236681063068_1553644644</td>\n",
       "      <td>First Dates - Ein Tisch für zwei</td>\n",
       "      <td>4234.0</td>\n",
       "      <td>springsummer_branding</td>\n",
       "      <td>2020-05-15 18:10:45</td>\n",
       "      <td>15.05.20 18:13</td>\n",
       "      <td>573.0</td>\n",
       "      <td>658.95</td>\n",
       "      <td>908</td>\n",
       "      <td>0.368943</td>\n",
       "    </tr>\n",
       "    <tr>\n",
       "      <th>4</th>\n",
       "      <td>10001127236681063068_1553644644</td>\n",
       "      <td>First Dates - Ein Tisch für zwei</td>\n",
       "      <td>4234.0</td>\n",
       "      <td>springsummer_branding</td>\n",
       "      <td>2020-05-15 18:10:45</td>\n",
       "      <td>15.05.20 18:14</td>\n",
       "      <td>573.0</td>\n",
       "      <td>658.95</td>\n",
       "      <td>961</td>\n",
       "      <td>0.403746</td>\n",
       "    </tr>\n",
       "  </tbody>\n",
       "</table>\n",
       "</div>"
      ],
      "text/plain": [
       "                            tvp_id                           tv_show  spot_id              spot_name      ads_start_time ads_start_time_5_min_duration  visit_median  peak_threshold  visit_count   tv_prob\n",
       "0  10001127236681063068_1553644644  First Dates - Ein Tisch für zwei   4234.0  springsummer_branding 2020-05-15 18:10:45                15.05.20 18:10         569.0          654.35          798  0.286967\n",
       "1  10001127236681063068_1553644644  First Dates - Ein Tisch für zwei   4234.0  springsummer_branding 2020-05-15 18:10:45                15.05.20 18:11         569.0          654.35          800  0.288750\n",
       "2  10001127236681063068_1553644644  First Dates - Ein Tisch für zwei   4234.0  springsummer_branding 2020-05-15 18:10:45                15.05.20 18:12         573.0          658.95          901  0.364040\n",
       "3  10001127236681063068_1553644644  First Dates - Ein Tisch für zwei   4234.0  springsummer_branding 2020-05-15 18:10:45                15.05.20 18:13         573.0          658.95          908  0.368943\n",
       "4  10001127236681063068_1553644644  First Dates - Ein Tisch für zwei   4234.0  springsummer_branding 2020-05-15 18:10:45                15.05.20 18:14         573.0          658.95          961  0.403746"
      ]
     },
     "execution_count": 37,
     "metadata": {},
     "output_type": "execute_result"
    }
   ],
   "source": [
    "final_calculation_df.head()"
   ]
  },
  {
   "cell_type": "code",
   "execution_count": 38,
   "metadata": {},
   "outputs": [],
   "source": [
    "# merging sessions table with final_calculation_df to gather which visit had a valid tv probability calculation\n",
    "home_assignment_final_df = pd.merge(\n",
    "    sessions_final_df,\n",
    "    final_calculation_df,\n",
    "    how=\"inner\",\n",
    "    left_on=\"date_hour_minute\",\n",
    "    right_on=\"ads_start_time_5_min_duration\",\n",
    ")[[\"origin\", \"channel\", \"identifier\", \"date_hour_minute\", \"tvp_id\", \"tv_prob\"]]"
   ]
  },
  {
   "cell_type": "code",
   "execution_count": 39,
   "metadata": {},
   "outputs": [],
   "source": [
    "home_assignment_final_df[\"date_hour_minute\"] = pd.to_datetime(\n",
    "    home_assignment_final_df[\"date_hour_minute\"]\n",
    ")"
   ]
  },
  {
   "cell_type": "code",
   "execution_count": 40,
   "metadata": {},
   "outputs": [
    {
     "data": {
      "text/html": [
       "<div>\n",
       "<style scoped>\n",
       "    .dataframe tbody tr th:only-of-type {\n",
       "        vertical-align: middle;\n",
       "    }\n",
       "\n",
       "    .dataframe tbody tr th {\n",
       "        vertical-align: top;\n",
       "    }\n",
       "\n",
       "    .dataframe thead th {\n",
       "        text-align: right;\n",
       "    }\n",
       "</style>\n",
       "<table border=\"1\" class=\"dataframe\">\n",
       "  <thead>\n",
       "    <tr style=\"text-align: right;\">\n",
       "      <th></th>\n",
       "      <th>origin</th>\n",
       "      <th>channel</th>\n",
       "      <th>identifier</th>\n",
       "      <th>date_hour_minute</th>\n",
       "      <th>tvp_id</th>\n",
       "      <th>tv_prob</th>\n",
       "    </tr>\n",
       "  </thead>\n",
       "  <tbody>\n",
       "    <tr>\n",
       "      <th>0</th>\n",
       "      <td>app</td>\n",
       "      <td>Direct App</td>\n",
       "      <td>68308b2ca17ca3554546bbf7e8</td>\n",
       "      <td>2020-05-15 18:10:00</td>\n",
       "      <td>10001127236681063068_1553644644</td>\n",
       "      <td>0.286967</td>\n",
       "    </tr>\n",
       "    <tr>\n",
       "      <th>1</th>\n",
       "      <td>app</td>\n",
       "      <td>Direct App</td>\n",
       "      <td>cb51890263cb49761253403353</td>\n",
       "      <td>2020-05-15 18:10:00</td>\n",
       "      <td>10001127236681063068_1553644644</td>\n",
       "      <td>0.286967</td>\n",
       "    </tr>\n",
       "    <tr>\n",
       "      <th>2</th>\n",
       "      <td>app</td>\n",
       "      <td>Direct App</td>\n",
       "      <td>cca4b65d88d67b1acf79c4dc71</td>\n",
       "      <td>2020-05-15 18:10:00</td>\n",
       "      <td>10001127236681063068_1553644644</td>\n",
       "      <td>0.286967</td>\n",
       "    </tr>\n",
       "    <tr>\n",
       "      <th>3</th>\n",
       "      <td>web</td>\n",
       "      <td>Direct</td>\n",
       "      <td>234371511550390009</td>\n",
       "      <td>2020-05-15 18:10:00</td>\n",
       "      <td>10001127236681063068_1553644644</td>\n",
       "      <td>0.286967</td>\n",
       "    </tr>\n",
       "    <tr>\n",
       "      <th>4</th>\n",
       "      <td>web</td>\n",
       "      <td>Direct</td>\n",
       "      <td>5798477480565300009</td>\n",
       "      <td>2020-05-15 18:10:00</td>\n",
       "      <td>10001127236681063068_1553644644</td>\n",
       "      <td>0.286967</td>\n",
       "    </tr>\n",
       "  </tbody>\n",
       "</table>\n",
       "</div>"
      ],
      "text/plain": [
       "  origin     channel                  identifier    date_hour_minute                           tvp_id   tv_prob\n",
       "0    app  Direct App  68308b2ca17ca3554546bbf7e8 2020-05-15 18:10:00  10001127236681063068_1553644644  0.286967\n",
       "1    app  Direct App  cb51890263cb49761253403353 2020-05-15 18:10:00  10001127236681063068_1553644644  0.286967\n",
       "2    app  Direct App  cca4b65d88d67b1acf79c4dc71 2020-05-15 18:10:00  10001127236681063068_1553644644  0.286967\n",
       "3    web      Direct          234371511550390009 2020-05-15 18:10:00  10001127236681063068_1553644644  0.286967\n",
       "4    web      Direct         5798477480565300009 2020-05-15 18:10:00  10001127236681063068_1553644644  0.286967"
      ]
     },
     "execution_count": 40,
     "metadata": {},
     "output_type": "execute_result"
    }
   ],
   "source": [
    "home_assignment_final_df.head()"
   ]
  },
  {
   "cell_type": "code",
   "execution_count": 41,
   "metadata": {},
   "outputs": [
    {
     "data": {
      "text/html": [
       "<div>\n",
       "<style scoped>\n",
       "    .dataframe tbody tr th:only-of-type {\n",
       "        vertical-align: middle;\n",
       "    }\n",
       "\n",
       "    .dataframe tbody tr th {\n",
       "        vertical-align: top;\n",
       "    }\n",
       "\n",
       "    .dataframe thead th {\n",
       "        text-align: right;\n",
       "    }\n",
       "</style>\n",
       "<table border=\"1\" class=\"dataframe\">\n",
       "  <thead>\n",
       "    <tr style=\"text-align: right;\">\n",
       "      <th></th>\n",
       "      <th>tvp_id</th>\n",
       "      <th>date_hour_minute</th>\n",
       "      <th>tv_prob</th>\n",
       "    </tr>\n",
       "  </thead>\n",
       "  <tbody>\n",
       "    <tr>\n",
       "      <th>0</th>\n",
       "      <td>10001127236681063068_1553644644</td>\n",
       "      <td>2020-05-15 18:10:00</td>\n",
       "      <td>0.286967</td>\n",
       "    </tr>\n",
       "    <tr>\n",
       "      <th>798</th>\n",
       "      <td>10001127236681063068_1553644644</td>\n",
       "      <td>2020-05-15 18:11:00</td>\n",
       "      <td>0.288750</td>\n",
       "    </tr>\n",
       "    <tr>\n",
       "      <th>1598</th>\n",
       "      <td>10001127236681063068_1553644644</td>\n",
       "      <td>2020-05-15 18:12:00</td>\n",
       "      <td>0.364040</td>\n",
       "    </tr>\n",
       "    <tr>\n",
       "      <th>2499</th>\n",
       "      <td>10001127236681063068_1553644644</td>\n",
       "      <td>2020-05-15 18:13:00</td>\n",
       "      <td>0.368943</td>\n",
       "    </tr>\n",
       "    <tr>\n",
       "      <th>3407</th>\n",
       "      <td>10001127236681063068_1553644644</td>\n",
       "      <td>2020-05-15 18:14:00</td>\n",
       "      <td>0.403746</td>\n",
       "    </tr>\n",
       "    <tr>\n",
       "      <th>3408</th>\n",
       "      <td>10001127236681063068_1553644645</td>\n",
       "      <td>2020-05-15 18:14:00</td>\n",
       "      <td>0.403746</td>\n",
       "    </tr>\n",
       "    <tr>\n",
       "      <th>5329</th>\n",
       "      <td>10001127236681063068_1553644644</td>\n",
       "      <td>2020-05-15 18:15:00</td>\n",
       "      <td>0.471889</td>\n",
       "    </tr>\n",
       "    <tr>\n",
       "      <th>5330</th>\n",
       "      <td>10001127236681063068_1553644645</td>\n",
       "      <td>2020-05-15 18:15:00</td>\n",
       "      <td>0.471889</td>\n",
       "    </tr>\n",
       "    <tr>\n",
       "      <th>7499</th>\n",
       "      <td>10001127236681063068_1553644645</td>\n",
       "      <td>2020-05-15 18:16:00</td>\n",
       "      <td>0.495154</td>\n",
       "    </tr>\n",
       "    <tr>\n",
       "      <th>8634</th>\n",
       "      <td>10001127236681063068_1553644646</td>\n",
       "      <td>2020-05-15 19:36:00</td>\n",
       "      <td>0.428977</td>\n",
       "    </tr>\n",
       "    <tr>\n",
       "      <th>9690</th>\n",
       "      <td>10001127236681063068_1553644646</td>\n",
       "      <td>2020-05-15 19:37:00</td>\n",
       "      <td>0.500414</td>\n",
       "    </tr>\n",
       "    <tr>\n",
       "      <th>10897</th>\n",
       "      <td>10001127236681063068_1553644646</td>\n",
       "      <td>2020-05-15 19:40:00</td>\n",
       "      <td>0.173973</td>\n",
       "    </tr>\n",
       "    <tr>\n",
       "      <th>11627</th>\n",
       "      <td>10001127236681063068_1553644646</td>\n",
       "      <td>2020-05-15 19:41:00</td>\n",
       "      <td>0.143466</td>\n",
       "    </tr>\n",
       "    <tr>\n",
       "      <th>12331</th>\n",
       "      <td>10001127236681063068_15536446461</td>\n",
       "      <td>2020-05-15 19:43:00</td>\n",
       "      <td>0.410557</td>\n",
       "    </tr>\n",
       "    <tr>\n",
       "      <th>13354</th>\n",
       "      <td>10001127236681063068_15536446461</td>\n",
       "      <td>2020-05-15 19:44:00</td>\n",
       "      <td>0.514493</td>\n",
       "    </tr>\n",
       "    <tr>\n",
       "      <th>14596</th>\n",
       "      <td>10001127236681063068_15536446461</td>\n",
       "      <td>2020-05-15 19:45:00</td>\n",
       "      <td>0.142248</td>\n",
       "    </tr>\n",
       "    <tr>\n",
       "      <th>15299</th>\n",
       "      <td>10001127236681063068_1553644647</td>\n",
       "      <td>2020-05-15 20:15:00</td>\n",
       "      <td>0.617798</td>\n",
       "    </tr>\n",
       "    <tr>\n",
       "      <th>17052</th>\n",
       "      <td>10001127236681063068_1553644647</td>\n",
       "      <td>2020-05-15 20:16:00</td>\n",
       "      <td>0.509876</td>\n",
       "    </tr>\n",
       "  </tbody>\n",
       "</table>\n",
       "</div>"
      ],
      "text/plain": [
       "                                 tvp_id    date_hour_minute   tv_prob\n",
       "0       10001127236681063068_1553644644 2020-05-15 18:10:00  0.286967\n",
       "798     10001127236681063068_1553644644 2020-05-15 18:11:00  0.288750\n",
       "1598    10001127236681063068_1553644644 2020-05-15 18:12:00  0.364040\n",
       "2499    10001127236681063068_1553644644 2020-05-15 18:13:00  0.368943\n",
       "3407    10001127236681063068_1553644644 2020-05-15 18:14:00  0.403746\n",
       "3408    10001127236681063068_1553644645 2020-05-15 18:14:00  0.403746\n",
       "5329    10001127236681063068_1553644644 2020-05-15 18:15:00  0.471889\n",
       "5330    10001127236681063068_1553644645 2020-05-15 18:15:00  0.471889\n",
       "7499    10001127236681063068_1553644645 2020-05-15 18:16:00  0.495154\n",
       "8634    10001127236681063068_1553644646 2020-05-15 19:36:00  0.428977\n",
       "9690    10001127236681063068_1553644646 2020-05-15 19:37:00  0.500414\n",
       "10897   10001127236681063068_1553644646 2020-05-15 19:40:00  0.173973\n",
       "11627   10001127236681063068_1553644646 2020-05-15 19:41:00  0.143466\n",
       "12331  10001127236681063068_15536446461 2020-05-15 19:43:00  0.410557\n",
       "13354  10001127236681063068_15536446461 2020-05-15 19:44:00  0.514493\n",
       "14596  10001127236681063068_15536446461 2020-05-15 19:45:00  0.142248\n",
       "15299   10001127236681063068_1553644647 2020-05-15 20:15:00  0.617798\n",
       "17052   10001127236681063068_1553644647 2020-05-15 20:16:00  0.509876"
      ]
     },
     "execution_count": 41,
     "metadata": {},
     "output_type": "execute_result"
    }
   ],
   "source": [
    "# my final tv program id, event minute and tv probability list\n",
    "home_assignment_final_df[[\"tvp_id\", \"date_hour_minute\", \"tv_prob\"]].drop_duplicates()"
   ]
  },
  {
   "cell_type": "markdown",
   "metadata": {},
   "source": [
    "## Comparing Results: Elif vs AboutYou :) \n",
    "\n",
    "* In this comparison I will focus on various parts;\n",
    "    * What is the tv probability difference distribution between our findings?\n",
    "    * What are the highest and lowest tv probability differences between our findings? \n",
    "    * What are Matching and Non-Matching identifier counts?"
   ]
  },
  {
   "cell_type": "code",
   "execution_count": 42,
   "metadata": {},
   "outputs": [
    {
     "name": "stdout",
     "output_type": "stream",
     "text": [
      "About You final Data Frame row count: 18662\n",
      "\n",
      "Elif final Data Frame row count: 18419\n"
     ]
    }
   ],
   "source": [
    "# comparing the final data frames table counts\n",
    "print(\"About You final Data Frame row count:\", tv_visits_match_df.shape[0])\n",
    "print(\"\")\n",
    "print(\"Elif final Data Frame row count:\", home_assignment_final_df.shape[0])"
   ]
  },
  {
   "cell_type": "code",
   "execution_count": 43,
   "metadata": {},
   "outputs": [],
   "source": [
    "# merging your and my results in comparison_df to calculate the differences\n",
    "comparison_df = pd.merge(\n",
    "    tv_visits_match_df,\n",
    "    home_assignment_final_df,\n",
    "    how=\"inner\",\n",
    "    on=[\"identifier\", \"tvp_id\", \"date_hour_minute\", \"origin\", \"channel\"],\n",
    ").drop_duplicates()"
   ]
  },
  {
   "cell_type": "code",
   "execution_count": 44,
   "metadata": {},
   "outputs": [
    {
     "data": {
      "text/html": [
       "<div>\n",
       "<style scoped>\n",
       "    .dataframe tbody tr th:only-of-type {\n",
       "        vertical-align: middle;\n",
       "    }\n",
       "\n",
       "    .dataframe tbody tr th {\n",
       "        vertical-align: top;\n",
       "    }\n",
       "\n",
       "    .dataframe thead th {\n",
       "        text-align: right;\n",
       "    }\n",
       "</style>\n",
       "<table border=\"1\" class=\"dataframe\">\n",
       "  <thead>\n",
       "    <tr style=\"text-align: right;\">\n",
       "      <th></th>\n",
       "      <th>origin</th>\n",
       "      <th>channel</th>\n",
       "      <th>identifier</th>\n",
       "      <th>date_hour_minute</th>\n",
       "      <th>tvp_id</th>\n",
       "      <th>tv_probability</th>\n",
       "      <th>spot_weight</th>\n",
       "      <th>tv_prob</th>\n",
       "    </tr>\n",
       "  </thead>\n",
       "  <tbody>\n",
       "    <tr>\n",
       "      <th>0</th>\n",
       "      <td>app</td>\n",
       "      <td>Direct App</td>\n",
       "      <td>68308b2ca17ca3554546bbf7e8</td>\n",
       "      <td>2020-05-15 18:10:00</td>\n",
       "      <td>10001127236681063068_1553644644</td>\n",
       "      <td>0.288847</td>\n",
       "      <td>1.0</td>\n",
       "      <td>0.286967</td>\n",
       "    </tr>\n",
       "    <tr>\n",
       "      <th>1</th>\n",
       "      <td>app</td>\n",
       "      <td>Direct App</td>\n",
       "      <td>cb51890263cb49761253403353</td>\n",
       "      <td>2020-05-15 18:10:00</td>\n",
       "      <td>10001127236681063068_1553644644</td>\n",
       "      <td>0.288847</td>\n",
       "      <td>1.0</td>\n",
       "      <td>0.286967</td>\n",
       "    </tr>\n",
       "    <tr>\n",
       "      <th>2</th>\n",
       "      <td>app</td>\n",
       "      <td>Direct App</td>\n",
       "      <td>cca4b65d88d67b1acf79c4dc71</td>\n",
       "      <td>2020-05-15 18:10:00</td>\n",
       "      <td>10001127236681063068_1553644644</td>\n",
       "      <td>0.288847</td>\n",
       "      <td>1.0</td>\n",
       "      <td>0.286967</td>\n",
       "    </tr>\n",
       "    <tr>\n",
       "      <th>3</th>\n",
       "      <td>web</td>\n",
       "      <td>Direct</td>\n",
       "      <td>234371511550390009</td>\n",
       "      <td>2020-05-15 18:10:00</td>\n",
       "      <td>10001127236681063068_1553644644</td>\n",
       "      <td>0.288847</td>\n",
       "      <td>1.0</td>\n",
       "      <td>0.286967</td>\n",
       "    </tr>\n",
       "    <tr>\n",
       "      <th>4</th>\n",
       "      <td>web</td>\n",
       "      <td>Direct</td>\n",
       "      <td>5798477480565300009</td>\n",
       "      <td>2020-05-15 18:10:00</td>\n",
       "      <td>10001127236681063068_1553644644</td>\n",
       "      <td>0.288847</td>\n",
       "      <td>1.0</td>\n",
       "      <td>0.286967</td>\n",
       "    </tr>\n",
       "  </tbody>\n",
       "</table>\n",
       "</div>"
      ],
      "text/plain": [
       "  origin     channel                  identifier    date_hour_minute                           tvp_id  tv_probability  spot_weight   tv_prob\n",
       "0    app  Direct App  68308b2ca17ca3554546bbf7e8 2020-05-15 18:10:00  10001127236681063068_1553644644        0.288847          1.0  0.286967\n",
       "1    app  Direct App  cb51890263cb49761253403353 2020-05-15 18:10:00  10001127236681063068_1553644644        0.288847          1.0  0.286967\n",
       "2    app  Direct App  cca4b65d88d67b1acf79c4dc71 2020-05-15 18:10:00  10001127236681063068_1553644644        0.288847          1.0  0.286967\n",
       "3    web      Direct          234371511550390009 2020-05-15 18:10:00  10001127236681063068_1553644644        0.288847          1.0  0.286967\n",
       "4    web      Direct         5798477480565300009 2020-05-15 18:10:00  10001127236681063068_1553644644        0.288847          1.0  0.286967"
      ]
     },
     "execution_count": 44,
     "metadata": {},
     "output_type": "execute_result"
    }
   ],
   "source": [
    "comparison_df.head()"
   ]
  },
  {
   "cell_type": "code",
   "execution_count": 45,
   "metadata": {},
   "outputs": [
    {
     "data": {
      "image/png": "[encoded data removed]",
      "text/plain": [
       "<Figure size 1080x360 with 1 Axes>"
      ]
     },
     "metadata": {
      "needs_background": "light"
     },
     "output_type": "display_data"
    }
   ],
   "source": [
    "# comparing tv plot distributions\n",
    "two_column_distribution_chart(\n",
    "    comparison_df,\n",
    "    \"tv_probability\",\n",
    "    \"tv_prob\",\n",
    "    \"About You\",\n",
    "    \"Elif\",\n",
    "    \"TV Probability Distribution Comparion\",\n",
    "    \"tv probability\",\n",
    ")"
   ]
  },
  {
   "cell_type": "code",
   "execution_count": 46,
   "metadata": {},
   "outputs": [],
   "source": [
    "# calculating tv probability differences between two result data sets\n",
    "comparison_df[\"tv_probability_difference\"] = np.abs(\n",
    "    comparison_df[\"tv_probability\"] - comparison_df[\"tv_prob\"]\n",
    ")"
   ]
  },
  {
   "cell_type": "code",
   "execution_count": 47,
   "metadata": {},
   "outputs": [
    {
     "data": {
      "text/plain": [
       "count    16281.000000\n",
       "mean         0.004084\n",
       "std          0.003682\n",
       "min          0.000000\n",
       "50%          0.004846\n",
       "90%          0.006104\n",
       "95%          0.013533\n",
       "99%          0.013533\n",
       "max          0.013533\n",
       "Name: tv_probability_difference, dtype: float64"
      ]
     },
     "execution_count": 47,
     "metadata": {},
     "output_type": "execute_result"
    }
   ],
   "source": [
    "# tv probability difference descriptive statistics\n",
    "comparison_df[\"tv_probability_difference\"].describe(percentiles=[0.9, 0.95, 0.99])"
   ]
  },
  {
   "cell_type": "code",
   "execution_count": 55,
   "metadata": {},
   "outputs": [
    {
     "data": {
      "text/plain": [
       "Text(0.5, 0, 'TV Probability Difference')"
      ]
     },
     "execution_count": 55,
     "metadata": {},
     "output_type": "execute_result"
    },
    {
     "data": {
      "image/png": "[encoded data removed]",
      "text/plain": [
       "<Figure size 720x360 with 1 Axes>"
      ]
     },
     "metadata": {
      "needs_background": "light"
     },
     "output_type": "display_data"
    }
   ],
   "source": [
    "# tv probability difference distribution\n",
    "plt.figure(figsize=(10, 5))\n",
    "sns.distplot(comparison_df[\"tv_probability_difference\"], hist=True, kde=False)\n",
    "plt.title(\"TV Probability Difference Distribution\", fontsize=17)\n",
    "plt.xlabel(\"TV Probability Difference\", fontsize=15)"
   ]
  },
  {
   "cell_type": "markdown",
   "metadata": {},
   "source": [
    "### Findings\n",
    "\n",
    "* Mean tv probability difference is % 0.4 and maximum is %1.2. \n",
    "* %90 percentile value is % 0.6.\n",
    "* Based on the trusts above we can easily say that our results are almost identical. "
   ]
  },
  {
   "cell_type": "markdown",
   "metadata": {},
   "source": [
    "# Final Conclusion and Findings\n",
    "\n",
    "* I have compared my findings to your tv_visits_match table and I have detected some differences;\n",
    "    * \"sessions that occur within 5 minutes after a TV spot was aired.\": In my calculations I have added 5 minutes to spot air time and calculated a duration of 6 minutes. In your table you have calculated 7 minutes which means you have added 6 minutes to the duration. This will result a non matching last minute in our analysis. Based on the document I believe my way of calculation seems to be the correct one. But his cause your final data set has 243 more visits than mine.\n",
    "    * \"2 or more spots are aired at the same time\": In the documentation you mentioned that spot overlap can only be existed as long as 2 or more spots were aired at the same time. But in your table you calculated overlap based on the duration period overlaps not the air time overlaps. For example; last 2 minutes of 5 minute duration of tvp_id \"10001127236681063068_1553644644\" overlaps with first two minutes of 5 minute duration of tvp_id \"10001127236681063068_1553644645\"."
   ]
  },
  {
   "cell_type": "code",
   "execution_count": 49,
   "metadata": {},
   "outputs": [
    {
     "name": "stdout",
     "output_type": "stream",
     "text": [
      "audience_df\t comparison_df\t final_calculation_df\t home_assignment_final_df\t median_df\t sessions_final_df\t sessions_final_df_aggregated\t sessions_final_df_reporting_df\t threshold_control\t \n",
      "tv_planning_df\t tv_show_spot_df\t tv_spots_df\t tv_visits_match_df\t \n"
     ]
    }
   ],
   "source": [
    "%who DataFrame"
   ]
  },
  {
   "cell_type": "code",
   "execution_count": null,
   "metadata": {},
   "outputs": [],
   "source": []
  }
 ],
 "metadata": {
  "kernelspec": {
   "display_name": "Python 3",
   "language": "python",
   "name": "python3"
  },
  "language_info": {
   "codemirror_mode": {
    "name": "ipython",
    "version": 3
   },
   "file_extension": ".py",
   "mimetype": "text/x-python",
   "name": "python",
   "nbconvert_exporter": "python",
   "pygments_lexer": "ipython3",
   "version": "3.9.1"
  }
 },
 "nbformat": 4,
 "nbformat_minor": 4
}
