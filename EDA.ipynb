{
 "cells": [
  {
   "cell_type": "code",
   "execution_count": 1,
   "metadata": {},
   "outputs": [],
   "source": [
    "import pandas as pd\n",
    "import warnings\n",
    "import numpy as np\n",
    "\n",
    "# calling functions from the manual created util file\n",
    "from util import df_first_look, file_read, sessions_final_df_cleaning\n",
    "from datetime import datetime\n",
    "from datetime import timedelta\n",
    "\n",
    "# adding options to visualise all rows and columns in the project\n",
    "pd.set_option(\"display.max_rows\", 500)\n",
    "pd.set_option(\"display.max_columns\", 500)\n",
    "pd.set_option(\"display.width\", 1000)\n",
    "\n",
    "# ignoring warnings\n",
    "warnings.filterwarnings(\"ignore\")\n",
    "\n",
    "# adding useful magic functions\n",
    "%load_ext lab_black\n",
    "%matplotlib inline\n",
    "%config Completer.use_jedi = False"
   ]
  },
  {
   "cell_type": "code",
   "execution_count": 2,
   "metadata": {},
   "outputs": [],
   "source": [
    "# Reading all files into the data frames\n",
    "(\n",
    "    sessions_final_df,\n",
    "    audience_df,\n",
    "    tv_planning_df,\n",
    "    tv_spots_df,\n",
    "    tv_visits_match_df,\n",
    ") = file_read()"
   ]
  },
  {
   "cell_type": "markdown",
   "metadata": {},
   "source": [
    "### Descriptive Statistics to be Added For Each Table"
   ]
  },
  {
   "cell_type": "markdown",
   "metadata": {},
   "source": [
    "### Target Channels \n",
    "\n",
    "Regarding the assignment rules we need to include a certain list of channels.\n",
    "\n",
    "● Search engines (SEO + SEA, Brand)\n",
    "\n",
    "● Direct Type-in Traffic\n",
    "\n",
    "From the unique channel lists, I have selected these ones to be included in the project."
   ]
  },
  {
   "cell_type": "code",
   "execution_count": 3,
   "metadata": {},
   "outputs": [
    {
     "name": "stdout",
     "output_type": "stream",
     "text": [
      "Initial sessions_final_df table count: 1058463\n",
      "\n",
      "Final sessions_final_df table count after channel filtering: 628032\n"
     ]
    }
   ],
   "source": [
    "channel_list = [\n",
    "    \"Direct App\",\n",
    "    \"Bing CPC Brand\",\n",
    "    \"Direct\",\n",
    "    \"Organic Search Brand\",\n",
    "    \"Google CPC Brand\",\n",
    "    \"Google CPC Non Brand\",\n",
    "    \"Organic Search Non Brand\",\n",
    "    \"Bing CPC Non Brand\",\n",
    "    \"Apple Search Ads\",\n",
    "    \"Google Paid App Non Brand\",\n",
    "    \"Display Brand\",\n",
    "]\n",
    "print(\"Initial sessions_final_df table count:\", sessions_final_df.shape[0])\n",
    "print(\"\")\n",
    "sessions_final_df = sessions_final_df_cleaning(sessions_final_df, channel_list)\n",
    "print(\n",
    "    \"Final sessions_final_df table count after channel filtering:\",\n",
    "    sessions_final_df.shape[0],\n",
    ")"
   ]
  },
  {
   "cell_type": "markdown",
   "metadata": {},
   "source": [
    "### TV Planning Date Filtering\n",
    "\n",
    "In the sessions data set we only focus on 15th of May 2020. Regarding this we need to filter out other days from TV Planning data set."
   ]
  },
  {
   "cell_type": "code",
   "execution_count": 4,
   "metadata": {},
   "outputs": [],
   "source": [
    "# getting only 15th of May 2020 data\n",
    "tv_planning_df = tv_planning_df[\n",
    "    (tv_planning_df[\"block_start_time\"].dt.strftime(\"%Y-%m-%d\") == \"2020-05-15\")\n",
    "].copy()"
   ]
  },
  {
   "cell_type": "markdown",
   "metadata": {},
   "source": [
    "### TV Planning and TV Spots: Joining and Feature Calculations\n",
    "\n",
    "* TV Planning Data Frame is our main data set to get the advertisement block hours.\n",
    "* TV Spot Data Frame contains information about each advertisement. \n",
    "* We need to join these tables and calculate when our advertisements start and end during each show's advertisement block hours."
   ]
  },
  {
   "cell_type": "code",
   "execution_count": 5,
   "metadata": {},
   "outputs": [],
   "source": [
    "# we are joining tables on spot_id.\n",
    "tv_show_spot_df = pd.merge(tv_planning_df, tv_spots_df, how=\"left\", on=\"spot_id\")"
   ]
  },
  {
   "cell_type": "code",
   "execution_count": 6,
   "metadata": {},
   "outputs": [
    {
     "data": {
      "text/html": [
       "<div>\n",
       "<style scoped>\n",
       "    .dataframe tbody tr th:only-of-type {\n",
       "        vertical-align: middle;\n",
       "    }\n",
       "\n",
       "    .dataframe tbody tr th {\n",
       "        vertical-align: top;\n",
       "    }\n",
       "\n",
       "    .dataframe thead th {\n",
       "        text-align: right;\n",
       "    }\n",
       "</style>\n",
       "<table border=\"1\" class=\"dataframe\">\n",
       "  <thead>\n",
       "    <tr style=\"text-align: right;\">\n",
       "      <th></th>\n",
       "      <th>tvp_id</th>\n",
       "      <th>block_start_time</th>\n",
       "      <th>tv_show</th>\n",
       "      <th>block_size</th>\n",
       "      <th>block_position</th>\n",
       "      <th>spot_id</th>\n",
       "      <th>spot_name</th>\n",
       "      <th>duration</th>\n",
       "    </tr>\n",
       "  </thead>\n",
       "  <tbody>\n",
       "    <tr>\n",
       "      <th>0</th>\n",
       "      <td>10001127236681063068_1553644644</td>\n",
       "      <td>2020-05-15 18:05:00</td>\n",
       "      <td>First Dates - Ein Tisch für zwei</td>\n",
       "      <td>420.0</td>\n",
       "      <td>345.0</td>\n",
       "      <td>4234.0</td>\n",
       "      <td>springsummer_branding</td>\n",
       "      <td>30 secs</td>\n",
       "    </tr>\n",
       "    <tr>\n",
       "      <th>1</th>\n",
       "      <td>10001127236681063068_1553644645</td>\n",
       "      <td>2020-05-15 18:10:00</td>\n",
       "      <td>SOKO Kitzbühel</td>\n",
       "      <td>300.0</td>\n",
       "      <td>270.0</td>\n",
       "      <td>6232.0</td>\n",
       "      <td>springsummer_outfitfashionA</td>\n",
       "      <td>15 secs</td>\n",
       "    </tr>\n",
       "    <tr>\n",
       "      <th>2</th>\n",
       "      <td>10001127236681063068_1553644646</td>\n",
       "      <td>2020-05-15 19:35:00</td>\n",
       "      <td>Alles was zählt</td>\n",
       "      <td>480.0</td>\n",
       "      <td>60.0</td>\n",
       "      <td>8331.0</td>\n",
       "      <td>springsummer_saleB</td>\n",
       "      <td>7 secs</td>\n",
       "    </tr>\n",
       "    <tr>\n",
       "      <th>3</th>\n",
       "      <td>10001127236681063068_15536446461</td>\n",
       "      <td>2020-05-15 19:40:00</td>\n",
       "      <td>Comeback oder weg?</td>\n",
       "      <td>300.0</td>\n",
       "      <td>180.0</td>\n",
       "      <td>7224.0</td>\n",
       "      <td>springsummer_saleA</td>\n",
       "      <td>7 secs</td>\n",
       "    </tr>\n",
       "    <tr>\n",
       "      <th>4</th>\n",
       "      <td>10001127236681063068_1553644647</td>\n",
       "      <td>2020-05-15 20:15:00</td>\n",
       "      <td>Jack Reacher</td>\n",
       "      <td>60.0</td>\n",
       "      <td>15.0</td>\n",
       "      <td>6232.0</td>\n",
       "      <td>springsummer_outfitfashionA</td>\n",
       "      <td>15 secs</td>\n",
       "    </tr>\n",
       "  </tbody>\n",
       "</table>\n",
       "</div>"
      ],
      "text/plain": [
       "                             tvp_id    block_start_time                           tv_show  block_size  block_position  spot_id                    spot_name duration\n",
       "0   10001127236681063068_1553644644 2020-05-15 18:05:00  First Dates - Ein Tisch für zwei       420.0           345.0   4234.0        springsummer_branding  30 secs\n",
       "1   10001127236681063068_1553644645 2020-05-15 18:10:00                    SOKO Kitzbühel       300.0           270.0   6232.0  springsummer_outfitfashionA  15 secs\n",
       "2   10001127236681063068_1553644646 2020-05-15 19:35:00                   Alles was zählt       480.0            60.0   8331.0           springsummer_saleB   7 secs\n",
       "3  10001127236681063068_15536446461 2020-05-15 19:40:00                Comeback oder weg?       300.0           180.0   7224.0           springsummer_saleA   7 secs\n",
       "4   10001127236681063068_1553644647 2020-05-15 20:15:00                      Jack Reacher        60.0            15.0   6232.0  springsummer_outfitfashionA  15 secs"
      ]
     },
     "execution_count": 6,
     "metadata": {},
     "output_type": "execute_result"
    }
   ],
   "source": [
    "tv_show_spot_df.head()"
   ]
  },
  {
   "cell_type": "code",
   "execution_count": 7,
   "metadata": {},
   "outputs": [],
   "source": [
    "# in duration column there is a string suffix ' secs'. We need to clean this part to have numeric values.\n",
    "tv_show_spot_df[\"duration_numeric\"] = pd.to_numeric(\n",
    "    tv_show_spot_df[\"duration\"].str.split(\" \", expand=True)[0]\n",
    ")"
   ]
  },
  {
   "cell_type": "markdown",
   "metadata": {},
   "source": [
    "### Advertisement Start and End Time Calculations\n",
    "\n",
    "* `block_start_time`: Advertisement starting time during the tv show\n",
    "* `block_size`: Total advertisement time block in terms of seconds\n",
    "* `block_position`: When our advertisement starts in terms of seconds in the block_size\n",
    "* `duration`: How long our advertiesement is shown in terms of seconds\n",
    "\n",
    "Here we need to calculate when our advertisement starts and ends in terms of normal time format"
   ]
  },
  {
   "cell_type": "code",
   "execution_count": 8,
   "metadata": {},
   "outputs": [],
   "source": [
    "# calculating when our advertisement starts during the tv show advertiesement block\n",
    "tv_show_spot_df[\"block_position_second\"] = pd.to_timedelta(\n",
    "    tv_show_spot_df[\"block_position\"], unit=\"s\"\n",
    ")\n",
    "tv_show_spot_df[\"ads_start_time\"] = (\n",
    "    tv_show_spot_df[\"block_start_time\"] + tv_show_spot_df[\"block_position_second\"]\n",
    ")"
   ]
  },
  {
   "cell_type": "code",
   "execution_count": 9,
   "metadata": {},
   "outputs": [],
   "source": [
    "# calculating when our advertisement ends during the tv show advertiesement block\n",
    "tv_show_spot_df[\"duration_numeric_second\"] = pd.to_timedelta(\n",
    "    tv_show_spot_df[\"duration_numeric\"], unit=\"s\"\n",
    ")\n",
    "tv_show_spot_df[\"ads_end_time\"] = (\n",
    "    tv_show_spot_df[\"ads_start_time\"] + tv_show_spot_df[\"duration_numeric_second\"]\n",
    ")"
   ]
  },
  {
   "cell_type": "code",
   "execution_count": 10,
   "metadata": {},
   "outputs": [],
   "source": [
    "# dropping unused columns\n",
    "tv_show_spot_df.drop(\n",
    "    columns=[\"duration_numeric\", \"block_position_second\", \"duration_numeric_second\"],\n",
    "    inplace=True,\n",
    ")"
   ]
  },
  {
   "cell_type": "code",
   "execution_count": 11,
   "metadata": {},
   "outputs": [
    {
     "data": {
      "text/html": [
       "<div>\n",
       "<style scoped>\n",
       "    .dataframe tbody tr th:only-of-type {\n",
       "        vertical-align: middle;\n",
       "    }\n",
       "\n",
       "    .dataframe tbody tr th {\n",
       "        vertical-align: top;\n",
       "    }\n",
       "\n",
       "    .dataframe thead th {\n",
       "        text-align: right;\n",
       "    }\n",
       "</style>\n",
       "<table border=\"1\" class=\"dataframe\">\n",
       "  <thead>\n",
       "    <tr style=\"text-align: right;\">\n",
       "      <th></th>\n",
       "      <th>tvp_id</th>\n",
       "      <th>block_start_time</th>\n",
       "      <th>tv_show</th>\n",
       "      <th>block_size</th>\n",
       "      <th>block_position</th>\n",
       "      <th>spot_id</th>\n",
       "      <th>spot_name</th>\n",
       "      <th>duration</th>\n",
       "      <th>ads_start_time</th>\n",
       "      <th>ads_end_time</th>\n",
       "    </tr>\n",
       "  </thead>\n",
       "  <tbody>\n",
       "    <tr>\n",
       "      <th>0</th>\n",
       "      <td>10001127236681063068_1553644644</td>\n",
       "      <td>2020-05-15 18:05:00</td>\n",
       "      <td>First Dates - Ein Tisch für zwei</td>\n",
       "      <td>420.0</td>\n",
       "      <td>345.0</td>\n",
       "      <td>4234.0</td>\n",
       "      <td>springsummer_branding</td>\n",
       "      <td>30 secs</td>\n",
       "      <td>2020-05-15 18:10:45</td>\n",
       "      <td>2020-05-15 18:11:15</td>\n",
       "    </tr>\n",
       "    <tr>\n",
       "      <th>1</th>\n",
       "      <td>10001127236681063068_1553644645</td>\n",
       "      <td>2020-05-15 18:10:00</td>\n",
       "      <td>SOKO Kitzbühel</td>\n",
       "      <td>300.0</td>\n",
       "      <td>270.0</td>\n",
       "      <td>6232.0</td>\n",
       "      <td>springsummer_outfitfashionA</td>\n",
       "      <td>15 secs</td>\n",
       "      <td>2020-05-15 18:14:30</td>\n",
       "      <td>2020-05-15 18:14:45</td>\n",
       "    </tr>\n",
       "    <tr>\n",
       "      <th>2</th>\n",
       "      <td>10001127236681063068_1553644646</td>\n",
       "      <td>2020-05-15 19:35:00</td>\n",
       "      <td>Alles was zählt</td>\n",
       "      <td>480.0</td>\n",
       "      <td>60.0</td>\n",
       "      <td>8331.0</td>\n",
       "      <td>springsummer_saleB</td>\n",
       "      <td>7 secs</td>\n",
       "      <td>2020-05-15 19:36:00</td>\n",
       "      <td>2020-05-15 19:36:07</td>\n",
       "    </tr>\n",
       "    <tr>\n",
       "      <th>3</th>\n",
       "      <td>10001127236681063068_15536446461</td>\n",
       "      <td>2020-05-15 19:40:00</td>\n",
       "      <td>Comeback oder weg?</td>\n",
       "      <td>300.0</td>\n",
       "      <td>180.0</td>\n",
       "      <td>7224.0</td>\n",
       "      <td>springsummer_saleA</td>\n",
       "      <td>7 secs</td>\n",
       "      <td>2020-05-15 19:43:00</td>\n",
       "      <td>2020-05-15 19:43:07</td>\n",
       "    </tr>\n",
       "    <tr>\n",
       "      <th>4</th>\n",
       "      <td>10001127236681063068_1553644647</td>\n",
       "      <td>2020-05-15 20:15:00</td>\n",
       "      <td>Jack Reacher</td>\n",
       "      <td>60.0</td>\n",
       "      <td>15.0</td>\n",
       "      <td>6232.0</td>\n",
       "      <td>springsummer_outfitfashionA</td>\n",
       "      <td>15 secs</td>\n",
       "      <td>2020-05-15 20:15:15</td>\n",
       "      <td>2020-05-15 20:15:30</td>\n",
       "    </tr>\n",
       "  </tbody>\n",
       "</table>\n",
       "</div>"
      ],
      "text/plain": [
       "                             tvp_id    block_start_time                           tv_show  block_size  block_position  spot_id                    spot_name duration      ads_start_time        ads_end_time\n",
       "0   10001127236681063068_1553644644 2020-05-15 18:05:00  First Dates - Ein Tisch für zwei       420.0           345.0   4234.0        springsummer_branding  30 secs 2020-05-15 18:10:45 2020-05-15 18:11:15\n",
       "1   10001127236681063068_1553644645 2020-05-15 18:10:00                    SOKO Kitzbühel       300.0           270.0   6232.0  springsummer_outfitfashionA  15 secs 2020-05-15 18:14:30 2020-05-15 18:14:45\n",
       "2   10001127236681063068_1553644646 2020-05-15 19:35:00                   Alles was zählt       480.0            60.0   8331.0           springsummer_saleB   7 secs 2020-05-15 19:36:00 2020-05-15 19:36:07\n",
       "3  10001127236681063068_15536446461 2020-05-15 19:40:00                Comeback oder weg?       300.0           180.0   7224.0           springsummer_saleA   7 secs 2020-05-15 19:43:00 2020-05-15 19:43:07\n",
       "4   10001127236681063068_1553644647 2020-05-15 20:15:00                      Jack Reacher        60.0            15.0   6232.0  springsummer_outfitfashionA  15 secs 2020-05-15 20:15:15 2020-05-15 20:15:30"
      ]
     },
     "execution_count": 11,
     "metadata": {},
     "output_type": "execute_result"
    }
   ],
   "source": [
    "tv_show_spot_df"
   ]
  },
  {
   "cell_type": "markdown",
   "metadata": {},
   "source": [
    "### Calculating Background Noise\n",
    "\n",
    "In a next step the background noise of visits from these channels is estimated:\n",
    "* The TV relevant visits are aggregated on a per-minute basis\n",
    "* Background noise value is calculated per minute:\n",
    "\n",
    "background noise for one minute x = median(visits in minute x-20; visits in minute x+20)"
   ]
  },
  {
   "cell_type": "code",
   "execution_count": 12,
   "metadata": {},
   "outputs": [
    {
     "data": {
      "text/html": [
       "<div>\n",
       "<style scoped>\n",
       "    .dataframe tbody tr th:only-of-type {\n",
       "        vertical-align: middle;\n",
       "    }\n",
       "\n",
       "    .dataframe tbody tr th {\n",
       "        vertical-align: top;\n",
       "    }\n",
       "\n",
       "    .dataframe thead th {\n",
       "        text-align: right;\n",
       "    }\n",
       "</style>\n",
       "<table border=\"1\" class=\"dataframe\">\n",
       "  <thead>\n",
       "    <tr style=\"text-align: right;\">\n",
       "      <th></th>\n",
       "      <th>tvp_id</th>\n",
       "      <th>block_start_time</th>\n",
       "      <th>tv_show</th>\n",
       "      <th>block_size</th>\n",
       "      <th>block_position</th>\n",
       "      <th>spot_id</th>\n",
       "      <th>spot_name</th>\n",
       "      <th>duration</th>\n",
       "      <th>ads_start_time</th>\n",
       "      <th>ads_end_time</th>\n",
       "    </tr>\n",
       "  </thead>\n",
       "  <tbody>\n",
       "    <tr>\n",
       "      <th>0</th>\n",
       "      <td>10001127236681063068_1553644644</td>\n",
       "      <td>2020-05-15 18:05:00</td>\n",
       "      <td>First Dates - Ein Tisch für zwei</td>\n",
       "      <td>420.0</td>\n",
       "      <td>345.0</td>\n",
       "      <td>4234.0</td>\n",
       "      <td>springsummer_branding</td>\n",
       "      <td>30 secs</td>\n",
       "      <td>2020-05-15 18:10:45</td>\n",
       "      <td>2020-05-15 18:11:15</td>\n",
       "    </tr>\n",
       "    <tr>\n",
       "      <th>1</th>\n",
       "      <td>10001127236681063068_1553644645</td>\n",
       "      <td>2020-05-15 18:10:00</td>\n",
       "      <td>SOKO Kitzbühel</td>\n",
       "      <td>300.0</td>\n",
       "      <td>270.0</td>\n",
       "      <td>6232.0</td>\n",
       "      <td>springsummer_outfitfashionA</td>\n",
       "      <td>15 secs</td>\n",
       "      <td>2020-05-15 18:14:30</td>\n",
       "      <td>2020-05-15 18:14:45</td>\n",
       "    </tr>\n",
       "    <tr>\n",
       "      <th>2</th>\n",
       "      <td>10001127236681063068_1553644646</td>\n",
       "      <td>2020-05-15 19:35:00</td>\n",
       "      <td>Alles was zählt</td>\n",
       "      <td>480.0</td>\n",
       "      <td>60.0</td>\n",
       "      <td>8331.0</td>\n",
       "      <td>springsummer_saleB</td>\n",
       "      <td>7 secs</td>\n",
       "      <td>2020-05-15 19:36:00</td>\n",
       "      <td>2020-05-15 19:36:07</td>\n",
       "    </tr>\n",
       "    <tr>\n",
       "      <th>3</th>\n",
       "      <td>10001127236681063068_15536446461</td>\n",
       "      <td>2020-05-15 19:40:00</td>\n",
       "      <td>Comeback oder weg?</td>\n",
       "      <td>300.0</td>\n",
       "      <td>180.0</td>\n",
       "      <td>7224.0</td>\n",
       "      <td>springsummer_saleA</td>\n",
       "      <td>7 secs</td>\n",
       "      <td>2020-05-15 19:43:00</td>\n",
       "      <td>2020-05-15 19:43:07</td>\n",
       "    </tr>\n",
       "    <tr>\n",
       "      <th>4</th>\n",
       "      <td>10001127236681063068_1553644647</td>\n",
       "      <td>2020-05-15 20:15:00</td>\n",
       "      <td>Jack Reacher</td>\n",
       "      <td>60.0</td>\n",
       "      <td>15.0</td>\n",
       "      <td>6232.0</td>\n",
       "      <td>springsummer_outfitfashionA</td>\n",
       "      <td>15 secs</td>\n",
       "      <td>2020-05-15 20:15:15</td>\n",
       "      <td>2020-05-15 20:15:30</td>\n",
       "    </tr>\n",
       "  </tbody>\n",
       "</table>\n",
       "</div>"
      ],
      "text/plain": [
       "                             tvp_id    block_start_time                           tv_show  block_size  block_position  spot_id                    spot_name duration      ads_start_time        ads_end_time\n",
       "0   10001127236681063068_1553644644 2020-05-15 18:05:00  First Dates - Ein Tisch für zwei       420.0           345.0   4234.0        springsummer_branding  30 secs 2020-05-15 18:10:45 2020-05-15 18:11:15\n",
       "1   10001127236681063068_1553644645 2020-05-15 18:10:00                    SOKO Kitzbühel       300.0           270.0   6232.0  springsummer_outfitfashionA  15 secs 2020-05-15 18:14:30 2020-05-15 18:14:45\n",
       "2   10001127236681063068_1553644646 2020-05-15 19:35:00                   Alles was zählt       480.0            60.0   8331.0           springsummer_saleB   7 secs 2020-05-15 19:36:00 2020-05-15 19:36:07\n",
       "3  10001127236681063068_15536446461 2020-05-15 19:40:00                Comeback oder weg?       300.0           180.0   7224.0           springsummer_saleA   7 secs 2020-05-15 19:43:00 2020-05-15 19:43:07\n",
       "4   10001127236681063068_1553644647 2020-05-15 20:15:00                      Jack Reacher        60.0            15.0   6232.0  springsummer_outfitfashionA  15 secs 2020-05-15 20:15:15 2020-05-15 20:15:30"
      ]
     },
     "execution_count": 12,
     "metadata": {},
     "output_type": "execute_result"
    }
   ],
   "source": [
    "tv_show_spot_df.head()"
   ]
  },
  {
   "cell_type": "code",
   "execution_count": 13,
   "metadata": {},
   "outputs": [],
   "source": [
    "ads_start_list = list((tv_show_spot_df[\"ads_start_time\"].dt.strftime(\"%Y-%m-%d %H:%M\")))"
   ]
  },
  {
   "cell_type": "code",
   "execution_count": 18,
   "metadata": {},
   "outputs": [
    {
     "data": {
      "text/plain": [
       "['2020-05-15 18:10',\n",
       " '2020-05-15 18:14',\n",
       " '2020-05-15 19:36',\n",
       " '2020-05-15 19:43',\n",
       " '2020-05-15 20:15']"
      ]
     },
     "execution_count": 18,
     "metadata": {},
     "output_type": "execute_result"
    }
   ],
   "source": [
    "ads_start_list"
   ]
  },
  {
   "cell_type": "markdown",
   "metadata": {},
   "source": [
    "### Deep Dive Analysis On TV Advertisement Effects"
   ]
  },
  {
   "cell_type": "code",
   "execution_count": 21,
   "metadata": {},
   "outputs": [
    {
     "data": {
      "text/plain": [
       "<AxesSubplot:xlabel='date_hour_minute'>"
      ]
     },
     "execution_count": 21,
     "metadata": {},
     "output_type": "execute_result"
    },
    {
     "data": {
      "image/png": "[encoded data removed]",
      "text/plain": [
       "<Figure size 432x288 with 1 Axes>"
      ]
     },
     "metadata": {
      "needs_background": "light"
     },
     "output_type": "display_data"
    }
   ],
   "source": [
    "sessions_final_df_reporting = pd.read_csv(\"case_may_2020_sessions_final.csv\")\n",
    "sessions_final_df_reporting_df = (\n",
    "    sessions_final_df_reporting.groupby(by=[\"date_hour_minute\"])[\"identifier\"]\n",
    "    .count()\n",
    "    .reset_index()\n",
    ")\n",
    "sessions_final_df_reporting_df[\"date_hour_minute\"] = pd.to_datetime(\n",
    "    sessions_final_df_reporting_df[\"date_hour_minute\"]\n",
    ")\n",
    "sessions_final_df_reporting_df.set_index(\"date_hour_minute\", inplace=True)\n",
    "sessions_final_df_reporting_df.resample(\"5T\").apply(sum).plot()"
   ]
  },
  {
   "cell_type": "code",
   "execution_count": 23,
   "metadata": {},
   "outputs": [
    {
     "data": {
      "text/plain": [
       "<AxesSubplot:xlabel='date_hour_minute'>"
      ]
     },
     "execution_count": 23,
     "metadata": {},
     "output_type": "execute_result"
    },
    {
     "data": {
      "image/png": "[encoded data removed]",
      "text/plain": [
       "<Figure size 432x288 with 1 Axes>"
      ]
     },
     "metadata": {
      "needs_background": "light"
     },
     "output_type": "display_data"
    },
    {
     "data": {
      "image/png": "[encoded data removed]",
      "text/plain": [
       "<Figure size 432x288 with 1 Axes>"
      ]
     },
     "metadata": {
      "needs_background": "light"
     },
     "output_type": "display_data"
    },
    {
     "data": {
      "image/png": "[encoded data removed]",
      "text/plain": [
       "<Figure size 432x288 with 1 Axes>"
      ]
     },
     "metadata": {
      "needs_background": "light"
     },
     "output_type": "display_data"
    }
   ],
   "source": [
    "sessions_final_df_reporting_df.resample(\"30T\").apply(sum).plot()\n",
    "sessions_final_df_reporting_df.resample(\"h\").apply(sum).plot()\n",
    "sessions_final_df_reporting_df.resample(\"3h\").apply(sum).plot()"
   ]
  },
  {
   "cell_type": "code",
   "execution_count": 14,
   "metadata": {},
   "outputs": [],
   "source": [
    "sessions_final_df_aggregated = (\n",
    "    sessions_final_df.groupby(by=[\"date_hour_minute\"])[\"identifier\"]\n",
    "    .count()\n",
    "    .reset_index()\n",
    "    .rename(columns={\"identifier\": \"identifier_count\"})\n",
    ")"
   ]
  },
  {
   "cell_type": "code",
   "execution_count": 16,
   "metadata": {},
   "outputs": [],
   "source": [
    "sessions_final_df_aggregated[\"date_hour_minute\"] = pd.to_datetime(\n",
    "    sessions_final_df_aggregated[\"date_hour_minute\"]\n",
    ")"
   ]
  },
  {
   "cell_type": "code",
   "execution_count": null,
   "metadata": {},
   "outputs": [],
   "source": [
    "median_df = pd.DataFrame(columns=[\"time\", \"time_new\", \"time_new_median\"])\n",
    "\n",
    "for time in ads_start_list:\n",
    "    for i in range(0, 6):\n",
    "        time_new = datetime.strptime(time, \"%Y-%m-%d %H:%M\") + timedelta(minutes=i)\n",
    "        time_new_minus_20 = time_new - timedelta(minutes=20)\n",
    "        time_new_plus_20 = time_new + timedelta(minutes=20)\n",
    "        time_new_median = sessions_final_df_aggregated[\n",
    "            (sessions_final_df_aggregated[\"date_hour_minute\"] >= time_new_minus_20)\n",
    "            & (sessions_final_df_aggregated[\"date_hour_minute\"] <= time_new_plus_20)\n",
    "        ][\"identifier_count\"].median()\n",
    "\n",
    "        to_append = [time, time_new, time_new_median]\n",
    "        a_series = pd.Series(to_append, index=median_df.columns)\n",
    "        median_df = median_df.append(a_series, ignore_index=True)"
   ]
  },
  {
   "cell_type": "code",
   "execution_count": null,
   "metadata": {},
   "outputs": [],
   "source": [
    "median_df[\"peak_threshold\"] = median_df[\"time_new_median\"] * 1.15"
   ]
  },
  {
   "cell_type": "code",
   "execution_count": null,
   "metadata": {},
   "outputs": [],
   "source": [
    "threshold_control = pd.merge(\n",
    "    median_df,\n",
    "    sessions_final_df_aggregated,\n",
    "    how=\"inner\",\n",
    "    left_on=\"time_new\",\n",
    "    right_on=\"date_hour_minute\",\n",
    ")"
   ]
  },
  {
   "cell_type": "code",
   "execution_count": null,
   "metadata": {},
   "outputs": [],
   "source": [
    "threshold_control[\"prob\"] = np.where(\n",
    "    threshold_control[\"identifier_count\"] > threshold_control[\"peak_threshold\"],\n",
    "    (threshold_control[\"identifier_count\"] - threshold_control[\"time_new_median\"])\n",
    "    / threshold_control[\"identifier_count\"],\n",
    "    0,\n",
    ")"
   ]
  },
  {
   "cell_type": "code",
   "execution_count": null,
   "metadata": {},
   "outputs": [],
   "source": [
    "threshold_control"
   ]
  },
  {
   "cell_type": "code",
   "execution_count": null,
   "metadata": {},
   "outputs": [],
   "source": [
    "# we need to merge to the tv_show_spot_df table. don,t forget to use seconds to merge"
   ]
  }
 ],
 "metadata": {
  "kernelspec": {
   "display_name": "Python 3",
   "language": "python",
   "name": "python3"
  },
  "language_info": {
   "codemirror_mode": {
    "name": "ipython",
    "version": 3
   },
   "file_extension": ".py",
   "mimetype": "text/x-python",
   "name": "python",
   "nbconvert_exporter": "python",
   "pygments_lexer": "ipython3",
   "version": "3.9.1"
  }
 },
 "nbformat": 4,
 "nbformat_minor": 4
}
